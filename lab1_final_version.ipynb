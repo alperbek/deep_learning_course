{
 "cells": [
  {
   "cell_type": "code",
   "execution_count": 1,
   "metadata": {},
   "outputs": [],
   "source": [
    "using  DelimitedFiles, Statistics, Random"
   ]
  },
  {
   "cell_type": "code",
   "execution_count": 2,
   "metadata": {
    "scrolled": false
   },
   "outputs": [
    {
     "name": "stderr",
     "output_type": "stream",
     "text": [
      "  % Total    % Received % Xferd  Average Speed   Time    Time     Time  Current\n",
      "                                 Dload  Upload   Total   Spent    Left  Speed\n",
      "100 49082  100 49082    0     0  45700      0  0:00:01  0:00:01 --:--:-- 45742\n"
     ]
    },
    {
     "data": {
      "text/plain": [
       "\"/var/folders/ws/pgljpr_d6zldk3cx6b1640jr0000gn/T/juliaVg1oZy\""
      ]
     },
     "execution_count": 2,
     "metadata": {},
     "output_type": "execute_result"
    }
   ],
   "source": [
    "data = download( \"https://raw.githubusercontent.com/ilkerkesen/ufldl-tutorial/master/ex1/housing.data\")"
   ]
  },
  {
   "cell_type": "code",
   "execution_count": 3,
   "metadata": {},
   "outputs": [
    {
     "data": {
      "text/plain": [
       "506×14 Array{Float64,2}:\n",
       " 0.00632  18.0   2.31  0.0  0.538  6.575  …  296.0  15.3  396.9    4.98  24.0\n",
       " 0.02731   0.0   7.07  0.0  0.469  6.421     242.0  17.8  396.9    9.14  21.6\n",
       " 0.02729   0.0   7.07  0.0  0.469  7.185     242.0  17.8  392.83   4.03  34.7\n",
       " 0.03237   0.0   2.18  0.0  0.458  6.998     222.0  18.7  394.63   2.94  33.4\n",
       " 0.06905   0.0   2.18  0.0  0.458  7.147     222.0  18.7  396.9    5.33  36.2\n",
       " 0.02985   0.0   2.18  0.0  0.458  6.43   …  222.0  18.7  394.12   5.21  28.7\n",
       " 0.08829  12.5   7.87  0.0  0.524  6.012     311.0  15.2  395.6   12.43  22.9\n",
       " 0.14455  12.5   7.87  0.0  0.524  6.172     311.0  15.2  396.9   19.15  27.1\n",
       " 0.21124  12.5   7.87  0.0  0.524  5.631     311.0  15.2  386.63  29.93  16.5\n",
       " 0.17004  12.5   7.87  0.0  0.524  6.004     311.0  15.2  386.71  17.1   18.9\n",
       " 0.22489  12.5   7.87  0.0  0.524  6.377  …  311.0  15.2  392.52  20.45  15.0\n",
       " 0.11747  12.5   7.87  0.0  0.524  6.009     311.0  15.2  396.9   13.27  18.9\n",
       " 0.09378  12.5   7.87  0.0  0.524  5.889     311.0  15.2  390.5   15.71  21.7\n",
       " ⋮                                 ⋮      ⋱          ⋮                       \n",
       " 0.27957   0.0   9.69  0.0  0.585  5.926     391.0  19.2  396.9   13.59  24.5\n",
       " 0.17899   0.0   9.69  0.0  0.585  5.67   …  391.0  19.2  393.29  17.6   23.1\n",
       " 0.2896    0.0   9.69  0.0  0.585  5.39      391.0  19.2  396.9   21.14  19.7\n",
       " 0.26838   0.0   9.69  0.0  0.585  5.794     391.0  19.2  396.9   14.1   18.3\n",
       " 0.23912   0.0   9.69  0.0  0.585  6.019     391.0  19.2  396.9   12.92  21.2\n",
       " 0.17783   0.0   9.69  0.0  0.585  5.569     391.0  19.2  395.77  15.1   17.5\n",
       " 0.22438   0.0   9.69  0.0  0.585  6.027  …  391.0  19.2  396.9   14.33  16.8\n",
       " 0.06263   0.0  11.93  0.0  0.573  6.593     273.0  21.0  391.99   9.67  22.4\n",
       " 0.04527   0.0  11.93  0.0  0.573  6.12      273.0  21.0  396.9    9.08  20.6\n",
       " 0.06076   0.0  11.93  0.0  0.573  6.976     273.0  21.0  396.9    5.64  23.9\n",
       " 0.10959   0.0  11.93  0.0  0.573  6.794     273.0  21.0  393.45   6.48  22.0\n",
       " 0.04741   0.0  11.93  0.0  0.573  6.03   …  273.0  21.0  396.9    7.88  11.9"
      ]
     },
     "execution_count": 3,
     "metadata": {},
     "output_type": "execute_result"
    }
   ],
   "source": [
    "dt = readdlm(data)"
   ]
  },
  {
   "cell_type": "code",
   "execution_count": 4,
   "metadata": {},
   "outputs": [
    {
     "data": {
      "text/plain": [
       "506"
      ]
     },
     "execution_count": 4,
     "metadata": {},
     "output_type": "execute_result"
    }
   ],
   "source": [
    "num_features = size(dt)[2]-1\n",
    "num_instances = size(dt)[1]"
   ]
  },
  {
   "cell_type": "code",
   "execution_count": 5,
   "metadata": {},
   "outputs": [
    {
     "data": {
      "text/plain": [
       "13×506 LinearAlgebra.Transpose{Float64,Array{Float64,2}}:\n",
       "   0.00632    0.02731    0.02729  …    0.06076    0.10959    0.04741\n",
       "  18.0        0.0        0.0           0.0        0.0        0.0    \n",
       "   2.31       7.07       7.07         11.93      11.93      11.93   \n",
       "   0.0        0.0        0.0           0.0        0.0        0.0    \n",
       "   0.538      0.469      0.469         0.573      0.573      0.573  \n",
       "   6.575      6.421      7.185    …    6.976      6.794      6.03   \n",
       "  65.2       78.9       61.1          91.0       89.3       80.8    \n",
       "   4.09       4.9671     4.9671        2.1675     2.3889     2.505  \n",
       "   1.0        2.0        2.0           1.0        1.0        1.0    \n",
       " 296.0      242.0      242.0         273.0      273.0      273.0    \n",
       "  15.3       17.8       17.8      …   21.0       21.0       21.0    \n",
       " 396.9      396.9      392.83        396.9      393.45     396.9    \n",
       "   4.98       9.14       4.03          5.64       6.48       7.88   "
      ]
     },
     "execution_count": 5,
     "metadata": {},
     "output_type": "execute_result"
    }
   ],
   "source": [
    "x = transpose(dt[:,1:num_features])"
   ]
  },
  {
   "cell_type": "code",
   "execution_count": 6,
   "metadata": {},
   "outputs": [
    {
     "data": {
      "text/plain": [
       "506-element Array{Float64,1}:\n",
       " 24.0\n",
       " 21.6\n",
       " 34.7\n",
       " 33.4\n",
       " 36.2\n",
       " 28.7\n",
       " 22.9\n",
       " 27.1\n",
       " 16.5\n",
       " 18.9\n",
       " 15.0\n",
       " 18.9\n",
       " 21.7\n",
       "  ⋮  \n",
       " 24.5\n",
       " 23.1\n",
       " 19.7\n",
       " 18.3\n",
       " 21.2\n",
       " 17.5\n",
       " 16.8\n",
       " 22.4\n",
       " 20.6\n",
       " 23.9\n",
       " 22.0\n",
       " 11.9"
      ]
     },
     "execution_count": 6,
     "metadata": {},
     "output_type": "execute_result"
    }
   ],
   "source": [
    "y = dt[:,num_features+1]"
   ]
  },
  {
   "cell_type": "code",
   "execution_count": 7,
   "metadata": {},
   "outputs": [
    {
     "data": {
      "text/plain": [
       "1×506 Array{Float64,2}:\n",
       " 24.0  21.6  34.7  33.4  36.2  28.7  …  16.8  22.4  20.6  23.9  22.0  11.9"
      ]
     },
     "execution_count": 7,
     "metadata": {},
     "output_type": "execute_result"
    }
   ],
   "source": [
    "y = reshape(y,(1,num_instances))"
   ]
  },
  {
   "cell_type": "code",
   "execution_count": 8,
   "metadata": {},
   "outputs": [
    {
     "data": {
      "text/plain": [
       "13×506 Array{Float64,2}:\n",
       " -0.419367  -0.416927  -0.416929  …  -0.413038  -0.407361  -0.41459 \n",
       "  0.284548  -0.48724   -0.48724      -0.48724   -0.48724   -0.48724 \n",
       " -1.28664   -0.592794  -0.592794      0.115624   0.115624   0.115624\n",
       " -0.272329  -0.272329  -0.272329     -0.272329  -0.272329  -0.272329\n",
       " -0.144075  -0.73953   -0.73953       0.157968   0.157968   0.157968\n",
       "  0.413263   0.194082   1.28145   …   0.983986   0.724955  -0.362408\n",
       " -0.119895   0.366803  -0.265549      0.796661   0.736268   0.434302\n",
       "  0.140075   0.556609   0.556609     -0.772919  -0.667776  -0.61264 \n",
       " -0.981871  -0.867024  -0.867024     -0.981871  -0.981871  -0.981871\n",
       " -0.665949  -0.986353  -0.986353     -0.802418  -0.802418  -0.802418\n",
       " -1.45756   -0.302794  -0.302794  …   1.1753     1.1753     1.1753  \n",
       "  0.440616   0.440616   0.396035      0.440616   0.402826   0.440616\n",
       " -1.0745    -0.491953  -1.20753      -0.982076  -0.864446  -0.668397"
      ]
     },
     "execution_count": 8,
     "metadata": {},
     "output_type": "execute_result"
    }
   ],
   "source": [
    "x_normalized = (x .- mean(x, dims=2))./ std(x, dims=2)"
   ]
  },
  {
   "cell_type": "code",
   "execution_count": 9,
   "metadata": {},
   "outputs": [
    {
     "data": {
      "text/plain": [
       "MersenneTwister(UInt32[0x00000001], Random.DSFMT.DSFMT_state(Int32[1749029653, 1072851681, 1610647787, 1072862326, 1841712345, 1073426746, -198061126, 1073322060, -156153802, 1073567984  …  1977574422, 1073209915, 278919868, 1072835605, 1290372147, 18858467, 1815133874, -1716870370, 382, 0]), [0.0, 0.0, 0.0, 0.0, 0.0, 0.0, 0.0, 0.0, 0.0, 0.0  …  0.0, 0.0, 0.0, 0.0, 0.0, 0.0, 0.0, 0.0, 0.0, 0.0], UInt128[0x00000000000000000000000000000000, 0x00000000000000000000000000000000, 0x00000000000000000000000000000000, 0x00000000000000000000000000000000, 0x00000000000000000000000000000000, 0x00000000000000000000000000000000, 0x00000000000000000000000000000000, 0x00000000000000000000000000000000, 0x00000000000000000000000000000000, 0x00000000000000000000000000000000  …  0x00000000000000000000000000000000, 0x00000000000000000000000000000000, 0x00000000000000000000000000000000, 0x00000000000000000000000000000000, 0x00000000000000000000000000000000, 0x00000000000000000000000000000000, 0x00000000000000000000000000000000, 0x00000000000000000000000000000000, 0x00000000000000000000000000000000, 0x00000000000000000000000000000000], 1002, 0)"
      ]
     },
     "execution_count": 9,
     "metadata": {},
     "output_type": "execute_result"
    }
   ],
   "source": [
    "using Random\n",
    "Random.seed!(1)"
   ]
  },
  {
   "cell_type": "code",
   "execution_count": 10,
   "metadata": {},
   "outputs": [
    {
     "data": {
      "text/plain": [
       "506-element Array{Int64,1}:\n",
       " 185\n",
       " 311\n",
       " 332\n",
       " 340\n",
       " 222\n",
       " 171\n",
       " 425\n",
       "  21\n",
       " 246\n",
       " 226\n",
       " 452\n",
       " 404\n",
       " 435\n",
       "   ⋮\n",
       "  25\n",
       " 323\n",
       " 351\n",
       " 417\n",
       " 139\n",
       " 457\n",
       " 301\n",
       " 203\n",
       " 414\n",
       " 487\n",
       " 298\n",
       " 189"
      ]
     },
     "execution_count": 10,
     "metadata": {},
     "output_type": "execute_result"
    }
   ],
   "source": [
    "permutation = randperm(num_instances)"
   ]
  },
  {
   "cell_type": "code",
   "execution_count": 11,
   "metadata": {},
   "outputs": [
    {
     "data": {
      "text/plain": [
       "400"
      ]
     },
     "execution_count": 11,
     "metadata": {},
     "output_type": "execute_result"
    }
   ],
   "source": [
    "num_training = 400"
   ]
  },
  {
   "cell_type": "code",
   "execution_count": 12,
   "metadata": {},
   "outputs": [
    {
     "data": {
      "text/plain": [
       "1×106 Array{Float64,2}:\n",
       " 20.3  27.5  22.0  30.7  19.4  24.5  …  24.8  42.3  16.3  19.1  20.3  29.8"
      ]
     },
     "execution_count": 12,
     "metadata": {},
     "output_type": "execute_result"
    }
   ],
   "source": [
    "xtrn = x_normalized[:,permutation[1:num_training]]\n",
    "ytrn = y[:,permutation[1:num_training]]\n",
    "xtst = x_normalized[:,permutation[num_training+1:num_instances]]\n",
    "ytst = y[:,permutation[num_training+1:num_instances]]"
   ]
  },
  {
   "cell_type": "code",
   "execution_count": 13,
   "metadata": {},
   "outputs": [
    {
     "data": {
      "text/plain": [
       "1×13 Array{Float64,2}:\n",
       " 0.0426637  0.0378471  -0.169487  …  -0.0208622  -0.066244  -0.0257344"
      ]
     },
     "execution_count": 13,
     "metadata": {},
     "output_type": "execute_result"
    }
   ],
   "source": [
    "weight = Any[0.1*randn(1,num_features)][1]"
   ]
  },
  {
   "cell_type": "code",
   "execution_count": 14,
   "metadata": {},
   "outputs": [
    {
     "data": {
      "text/plain": [
       "predict (generic function with 1 method)"
      ]
     },
     "execution_count": 14,
     "metadata": {},
     "output_type": "execute_result"
    }
   ],
   "source": [
    "function predict(weight, x)\n",
    "    return weight*x\n",
    "end"
   ]
  },
  {
   "cell_type": "code",
   "execution_count": 15,
   "metadata": {},
   "outputs": [
    {
     "data": {
      "text/plain": [
       "1×400 Array{Float64,2}:\n",
       " 0.227025  -0.0623266  -0.0604358  …  0.207288  0.0592333  -0.0221864"
      ]
     },
     "execution_count": 15,
     "metadata": {},
     "output_type": "execute_result"
    }
   ],
   "source": [
    "ypred = predict(weight, xtrn)"
   ]
  },
  {
   "cell_type": "code",
   "execution_count": 16,
   "metadata": {},
   "outputs": [
    {
     "data": {
      "text/plain": [
       "mse (generic function with 1 method)"
      ]
     },
     "execution_count": 16,
     "metadata": {},
     "output_type": "execute_result"
    }
   ],
   "source": [
    "function mse(weight, x, y)\n",
    "    ypred = predict(weight, x)\n",
    "    squared = (y - ypred).^2\n",
    "    return sum(squared)/(2 * size(x)[2])\n",
    "end"
   ]
  },
  {
   "cell_type": "code",
   "execution_count": 17,
   "metadata": {},
   "outputs": [
    {
     "name": "stdout",
     "output_type": "stream",
     "text": [
      "(train loss/test loss): (297.3036503276775 299.0172855668773)"
     ]
    }
   ],
   "source": [
    "print(\"(train loss/test loss): (\", mse(weight,xtrn,ytrn),\" \", mse(weight,xtst,ytst),\")\")"
   ]
  },
  {
   "cell_type": "code",
   "execution_count": 18,
   "metadata": {},
   "outputs": [
    {
     "data": {
      "text/plain": [
       "less_than_average (generic function with 1 method)"
      ]
     },
     "execution_count": 18,
     "metadata": {},
     "output_type": "execute_result"
    }
   ],
   "source": [
    "function less_than_average(weight,x,y)\n",
    "    ypred = predict(weight,x)\n",
    "    avg = sqrt.(mse(weight,x,y))\n",
    "    counter = 0 \n",
    "    for i in 1:num_training\n",
    "        if abs.(ypred[i]-y[i]) < avg\n",
    "            counter += 1\n",
    "        end\n",
    "    end\n",
    "    return counter\n",
    "end"
   ]
  },
  {
   "cell_type": "code",
   "execution_count": 19,
   "metadata": {},
   "outputs": [
    {
     "data": {
      "text/plain": [
       "less_than_average2 (generic function with 1 method)"
      ]
     },
     "execution_count": 19,
     "metadata": {},
     "output_type": "execute_result"
    }
   ],
   "source": [
    "function less_than_average2(weight,x,y)\n",
    "    ypred = predict(weight,x)\n",
    "    avg = sqrt.(mse(weight,x,y))\n",
    "    count(x -> (x < avg), (abs.(ypred-y)))\n",
    "end"
   ]
  },
  {
   "cell_type": "code",
   "execution_count": 20,
   "metadata": {},
   "outputs": [
    {
     "data": {
      "text/plain": [
       "108"
      ]
     },
     "execution_count": 20,
     "metadata": {},
     "output_type": "execute_result"
    }
   ],
   "source": [
    "less_than_average2(weight, xtrn, ytrn)"
   ]
  },
  {
   "cell_type": "code",
   "execution_count": 21,
   "metadata": {},
   "outputs": [],
   "source": [
    "### 17.03 Final version"
   ]
  }
 ],
 "metadata": {
  "kernelspec": {
   "display_name": "Julia 1.1.1",
   "language": "julia",
   "name": "julia-1.1"
  },
  "language_info": {
   "file_extension": ".jl",
   "mimetype": "application/julia",
   "name": "julia",
   "version": "1.1.1"
  }
 },
 "nbformat": 4,
 "nbformat_minor": 2
}
