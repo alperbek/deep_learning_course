{
  "nbformat": 4,
  "nbformat_minor": 0,
  "metadata": {
    "kernelspec": {
      "name": "julia-1.3",
      "display_name": "Julia 1.3"
    },
    "accelerator": "GPU",
    "colab": {
      "name": "lab4.ipynb",
      "provenance": [],
      "collapsed_sections": [
        "Q7S9cpFJqfXy"
      ],
      "toc_visible": true
    }
  },
  "cells": [
    {
      "cell_type": "markdown",
      "metadata": {
        "id": "Q7S9cpFJqfXy",
        "colab_type": "text"
      },
      "source": [
        "## Julia on Colaboratory ##\n",
        "\n",
        "[Colaboratory](https://colab.research.google.com) does not provide native support for the [Julia programming language](https://julialang.org). However, since Colaboratory gives you root access to the machine that runs your notebook (the *“runtime”* in Colaboratory terminology), we can install Julia support by uploading a specially crafted Julia notebook  – *this* notebook. We then install Julia and [IJulia](https://github.com/JuliaLang/IJulia.jl) ([Jupyter](https://jupyter.org)/Colaboratory notebook support) and reload the notebook so that Colaboratory detects and initiates what we installed.\n",
        "\n",
        "In brief:\n",
        "\n",
        "1. **Run the cell below**\n",
        "2. **Reload the page**\n",
        "3. **Edit the notebook name and start hacking Julia code below**\n",
        "\n",
        "**If your runtime resets**, either manually or if left idle for some time, **repeat steps 1 and 2**.\n",
        "\n",
        "### Acknowledgements ###\n",
        "\n",
        "This hack by Pontus Stenetorp is an adaptation of [James Bradbury’s original Colaboratory Julia hack](https://discourse.julialang.org/t/julia-on-google-colab-free-gpu-accelerated-shareable-notebooks/15319/27), that broke some time in September 2019 as Colaboratory increased their level of notebook runtime isolation. There also appears to be CUDA compilation support installed by default for each notebook runtime type in October 2019, which shaves off a good 15 minutes or so from the original hack’s installation time."
      ]
    },
    {
      "cell_type": "code",
      "metadata": {
        "id": "BrHjOFFsxf7W",
        "colab_type": "code",
        "outputId": "488e8e15-c1f6-4753-e457-6a2c64ee95a3",
        "colab": {
          "base_uri": "https://localhost:8080/",
          "height": 1000
        }
      },
      "source": [
        "# Installation cell\n",
        "%%shell\n",
        "if ! command -v julia 2>&1 > /dev/null\n",
        "then\n",
        "    wget 'https://julialang-s3.julialang.org/bin/linux/x64/1.3/julia-1.3.1-linux-x86_64.tar.gz' \\\n",
        "        -O /tmp/julia.tar.gz\n",
        "    tar -x -f /tmp/julia.tar.gz -C /usr/local --strip-components 1\n",
        "    rm /tmp/julia.tar.gz\n",
        "fi\n",
        "julia -e 'using Pkg; pkg\"add Plots; add PyPlot; add IJulia; add Knet; precompile\"'\n",
        "julia -e 'using Pkg; pkg\"build Knet;\"'"
      ],
      "execution_count": 0,
      "outputs": [
        {
          "output_type": "stream",
          "text": [
            "--2020-02-26 17:34:22--  https://julialang-s3.julialang.org/bin/linux/x64/1.3/julia-1.3.1-linux-x86_64.tar.gz\n",
            "Resolving julialang-s3.julialang.org (julialang-s3.julialang.org)... 151.101.2.49, 151.101.66.49, 151.101.130.49, ...\n",
            "Connecting to julialang-s3.julialang.org (julialang-s3.julialang.org)|151.101.2.49|:443... connected.\n",
            "HTTP request sent, awaiting response... 302 gce internal redirect trigger\n",
            "Location: https://storage.googleapis.com/julialang2/bin/linux/x64/1.3/julia-1.3.1-linux-x86_64.tar.gz [following]\n",
            "--2020-02-26 17:34:22--  https://storage.googleapis.com/julialang2/bin/linux/x64/1.3/julia-1.3.1-linux-x86_64.tar.gz\n",
            "Resolving storage.googleapis.com (storage.googleapis.com)... 74.125.28.128, 2607:f8b0:400e:c07::80\n",
            "Connecting to storage.googleapis.com (storage.googleapis.com)|74.125.28.128|:443... connected.\n",
            "HTTP request sent, awaiting response... 200 OK\n",
            "Length: 95929584 (91M) [application/x-gzip]\n",
            "Saving to: ‘/tmp/julia.tar.gz’\n",
            "\n",
            "\r/tmp/julia.tar.gz     0%[                    ]       0  --.-KB/s               \r/tmp/julia.tar.gz    16%[==>                 ]  15.34M  76.7MB/s               \r/tmp/julia.tar.gz    43%[=======>            ]  40.01M  84.9MB/s               \r/tmp/julia.tar.gz    78%[==============>     ]  72.01M   106MB/s               \r/tmp/julia.tar.gz   100%[===================>]  91.49M   108MB/s    in 0.8s    \n",
            "\n",
            "2020-02-26 17:34:23 (108 MB/s) - ‘/tmp/julia.tar.gz’ saved [95929584/95929584]\n",
            "\n",
            "   Cloning default registries into `~/.julia`\n",
            "   Cloning registry from \"https://github.com/JuliaRegistries/General.git\"\n",
            "\u001b[2K\u001b[?25h     Added registry `General` to `~/.julia/registries/General`\n",
            " Resolving package versions...\n",
            " Installed Bzip2_jll ────────── v1.0.6+1\n",
            " Installed NaNMath ──────────── v0.3.3\n",
            " Installed libvorbis_jll ────── v1.3.6+2\n",
            " Installed LibVPX_jll ───────── v1.8.1+1\n",
            " Installed x265_jll ─────────── v3.0.0+0\n",
            " Installed PlotUtils ────────── v0.6.3\n",
            " Installed StatsBase ────────── v0.32.1\n",
            " Installed Plots ────────────── v0.29.2\n",
            " Installed DataAPI ──────────── v1.1.0\n",
            " Installed Measures ─────────── v0.3.1\n",
            " Installed PlotThemes ───────── v1.0.1\n",
            " Installed FFMPEG ───────────── v0.3.0\n",
            " Installed OpenSSL_jll ──────── v1.1.1+1\n",
            " Installed FriBidi_jll ──────── v1.0.5+2\n",
            " Installed GeometryTypes ────── v0.7.9\n",
            " Installed Showoff ──────────── v0.3.1\n",
            " Installed StaticArrays ─────── v0.12.1\n",
            " Installed DataStructures ───── v0.17.10\n",
            " Installed Zlib_jll ─────────── v1.2.11+8\n",
            " Installed RecipesBase ──────── v0.8.0\n",
            " Installed FreeType2_jll ────── v2.10.1+1\n",
            " Installed Requires ─────────── v1.0.1\n",
            " Installed ColorTypes ───────── v0.9.1\n",
            " Installed SortingAlgorithms ── v0.3.1\n",
            " Installed Parsers ──────────── v0.3.11\n",
            " Installed x264_jll ─────────── v2019.5.25+1\n",
            " Installed JSON ─────────────── v0.21.0\n",
            " Installed FixedPointNumbers ── v0.7.1\n",
            " Installed Colors ───────────── v0.11.2\n",
            " Installed Reexport ─────────── v0.2.0\n",
            " Installed OrderedCollections ─ v1.1.0\n",
            " Installed Missings ─────────── v0.4.3\n",
            " Installed libfdk_aac_jll ───── v0.1.6+1\n",
            " Installed Contour ──────────── v0.5.1\n",
            " Installed FFMPEG_jll ───────── v4.1.0+2\n",
            " Installed libass_jll ───────── v0.14.0+0\n",
            " Installed Ogg_jll ──────────── v1.3.3+0\n",
            " Installed GR ───────────────── v0.46.0\n",
            " Installed LAME_jll ─────────── v3.100.0+0\n",
            " Installed Opus_jll ─────────── v1.3.1+0\n",
            "  Updating `~/.julia/environments/v1.3/Project.toml`\n",
            "  [91a5bcdd] + Plots v0.29.2\n",
            "  Updating `~/.julia/environments/v1.3/Manifest.toml`\n",
            "  [6e34b625] + Bzip2_jll v1.0.6+1\n",
            "  [3da002f7] + ColorTypes v0.9.1\n",
            "  [5ae59095] + Colors v0.11.2\n",
            "  [d38c429a] + Contour v0.5.1\n",
            "  [9a962f9c] + DataAPI v1.1.0\n",
            "  [864edb3b] + DataStructures v0.17.10\n",
            "  [c87230d0] + FFMPEG v0.3.0\n",
            "  [b22a6f82] + FFMPEG_jll v4.1.0+2\n",
            "  [53c48c17] + FixedPointNumbers v0.7.1\n",
            "  [d7e528f0] + FreeType2_jll v2.10.1+1\n",
            "  [559328eb] + FriBidi_jll v1.0.5+2\n",
            "  [28b8d3ca] + GR v0.46.0\n",
            "  [4d00f742] + GeometryTypes v0.7.9\n",
            "  [682c06a0] + JSON v0.21.0\n",
            "  [c1c5ebd0] + LAME_jll v3.100.0+0\n",
            "  [dd192d2f] + LibVPX_jll v1.8.1+1\n",
            "  [442fdcdd] + Measures v0.3.1\n",
            "  [e1d29d7a] + Missings v0.4.3\n",
            "  [77ba4419] + NaNMath v0.3.3\n",
            "  [e7412a2a] + Ogg_jll v1.3.3+0\n",
            "  [458c3c95] + OpenSSL_jll v1.1.1+1\n",
            "  [91d4177d] + Opus_jll v1.3.1+0\n",
            "  [bac558e1] + OrderedCollections v1.1.0\n",
            "  [69de0a69] + Parsers v0.3.11\n",
            "  [ccf2f8ad] + PlotThemes v1.0.1\n",
            "  [995b91a9] + PlotUtils v0.6.3\n",
            "  [91a5bcdd] + Plots v0.29.2\n",
            "  [3cdcf5f2] + RecipesBase v0.8.0\n",
            "  [189a3867] + Reexport v0.2.0\n",
            "  [ae029012] + Requires v1.0.1\n",
            "  [992d4aef] + Showoff v0.3.1\n",
            "  [a2af1166] + SortingAlgorithms v0.3.1\n",
            "  [90137ffa] + StaticArrays v0.12.1\n",
            "  [2913bbd2] + StatsBase v0.32.1\n",
            "  [83775a58] + Zlib_jll v1.2.11+8\n",
            "  [0ac62f75] + libass_jll v0.14.0+0\n",
            "  [f638f0a6] + libfdk_aac_jll v0.1.6+1\n",
            "  [f27f6e37] + libvorbis_jll v1.3.6+2\n",
            "  [1270edf5] + x264_jll v2019.5.25+1\n",
            "  [dfaa095f] + x265_jll v3.0.0+0\n",
            "  [2a0f44e3] + Base64 \n",
            "  [ade2ca70] + Dates \n",
            "  [8bb1440f] + DelimitedFiles \n",
            "  [8ba89e20] + Distributed \n",
            "  [b77e0a4c] + InteractiveUtils \n",
            "  [76f85450] + LibGit2 \n",
            "  [8f399da3] + Libdl \n",
            "  [37e2e46d] + LinearAlgebra \n",
            "  [56ddb016] + Logging \n",
            "  [d6f4376e] + Markdown \n",
            "  [a63ad114] + Mmap \n",
            "  [44cfe95a] + Pkg \n",
            "  [de0858da] + Printf \n",
            "  [3fa0cd96] + REPL \n",
            "  [9a3f8284] + Random \n",
            "  [ea8e919c] + SHA \n",
            "  [9e88b42a] + Serialization \n",
            "  [6462fe0b] + Sockets \n",
            "  [2f01184e] + SparseArrays \n",
            "  [10745b16] + Statistics \n",
            "  [8dfed614] + Test \n",
            "  [cf7118a7] + UUIDs \n",
            "  [4ec0a83e] + Unicode \n",
            "  Building GR ───→ `~/.julia/packages/GR/NSt7D/deps/build.log`\n",
            "  Building Plots → `~/.julia/packages/Plots/CFRKM/deps/build.log`\n",
            " Resolving package versions...\n",
            " Installed VersionParsing ─ v1.2.0\n",
            " Installed MacroTools ───── v0.5.4\n",
            " Installed Conda ────────── v1.4.1\n",
            " Installed LaTeXStrings ─── v1.0.3\n",
            " Installed PyCall ───────── v1.91.3\n",
            " Installed Compat ───────── v2.2.0\n",
            " Installed PyPlot ───────── v2.8.2\n",
            "  Updating `~/.julia/environments/v1.3/Project.toml`\n",
            "  [d330b81b] + PyPlot v2.8.2\n",
            "  Updating `~/.julia/environments/v1.3/Manifest.toml`\n",
            "  [34da2185] + Compat v2.2.0\n",
            "  [8f4d0f93] + Conda v1.4.1\n",
            "  [b964fa9f] + LaTeXStrings v1.0.3\n",
            "  [1914dd2f] + MacroTools v0.5.4\n",
            "  [438e738f] + PyCall v1.91.3\n",
            "  [d330b81b] + PyPlot v2.8.2\n",
            "  [81def892] + VersionParsing v1.2.0\n",
            "  [1a1011a3] + SharedArrays \n",
            "  Building Conda ─→ `~/.julia/packages/Conda/3rPhK/deps/build.log`\n",
            "  Building PyCall → `~/.julia/packages/PyCall/kAhnQ/deps/build.log`\n",
            " Resolving package versions...\n",
            " Installed SoftGlobalScope ─ v1.0.10\n",
            " Installed ZMQ ───────────── v1.2.0\n",
            " Installed BinaryProvider ── v0.5.8\n",
            " Installed IJulia ────────── v1.21.1\n",
            " Installed ZeroMQ_jll ────── v4.3.2+0\n",
            " Installed MbedTLS ───────── v0.7.0\n",
            "  Updating `~/.julia/environments/v1.3/Project.toml`\n",
            "  [7073ff75] + IJulia v1.21.1\n",
            "  Updating `~/.julia/environments/v1.3/Manifest.toml`\n",
            "  [b99e7846] + BinaryProvider v0.5.8\n",
            "  [7073ff75] + IJulia v1.21.1\n",
            "  [739be429] + MbedTLS v0.7.0\n",
            "  [b85f4697] + SoftGlobalScope v1.0.10\n",
            "  [c2297ded] + ZMQ v1.2.0\n",
            "  [8f1865be] + ZeroMQ_jll v4.3.2+0\n",
            "  [7b1f6079] + FileWatching \n",
            "  Building MbedTLS → `~/.julia/packages/MbedTLS/a1JFn/deps/build.log`\n",
            "  Building IJulia ─→ `~/.julia/packages/IJulia/yLI42/deps/build.log`\n",
            " Resolving package versions...\n",
            " Installed TimerOutputs ───────────────── v0.5.3\n",
            " Installed AutoGrad ───────────────────── v1.2.1\n",
            " Installed GPUArrays ──────────────────── v2.0.1\n",
            " Installed NNlib ──────────────────────── v0.6.4\n",
            " Installed CompilerSupportLibraries_jll ─ v0.2.0+1\n",
            " Installed CuArrays ───────────────────── v1.7.0\n",
            " Installed CodecZlib ──────────────────── v0.6.0\n",
            " Installed AbstractFFTs ───────────────── v0.5.0\n",
            " Installed SpecialFunctions ───────────── v0.10.0\n",
            " Installed CEnum ──────────────────────── v0.2.0\n",
            " Installed CUDAapi ────────────────────── v2.1.0\n",
            " Installed JLD2 ───────────────────────── v0.1.12\n",
            " Installed TranscodingStreams ─────────── v0.9.5\n",
            " Installed LLVM ───────────────────────── v1.3.3\n",
            " Installed Adapt ──────────────────────── v1.0.1\n",
            " Installed CUDAdrv ────────────────────── v5.1.0\n",
            " Installed OpenSpecFun_jll ────────────── v0.5.3+2\n",
            " Installed Knet ───────────────────────── v1.3.3\n",
            " Installed CUDAnative ─────────────────── v2.9.1\n",
            " Installed FileIO ─────────────────────── v1.2.2\n",
            "  Updating `~/.julia/environments/v1.3/Project.toml`\n",
            "  [1902f260] + Knet v1.3.3\n",
            "  Updating `~/.julia/environments/v1.3/Manifest.toml`\n",
            "  [621f4979] + AbstractFFTs v0.5.0\n",
            "  [79e6a3ab] + Adapt v1.0.1\n",
            "  [6710c13c] + AutoGrad v1.2.1\n",
            "  [fa961155] + CEnum v0.2.0\n",
            "  [3895d2a7] + CUDAapi v2.1.0\n",
            "  [c5f51814] + CUDAdrv v5.1.0\n",
            "  [be33ccc6] + CUDAnative v2.9.1\n",
            "  [944b1d66] + CodecZlib v0.6.0\n",
            "  [e66e0078] + CompilerSupportLibraries_jll v0.2.0+1\n",
            "  [3a865a2d] + CuArrays v1.7.0\n",
            "  [5789e2e9] + FileIO v1.2.2\n",
            "  [0c68f7d7] + GPUArrays v2.0.1\n",
            "  [033835bb] + JLD2 v0.1.12\n",
            "  [1902f260] + Knet v1.3.3\n",
            "  [929cbde3] + LLVM v1.3.3\n",
            "  [872c559c] + NNlib v0.6.4\n",
            "  [efe28fd5] + OpenSpecFun_jll v0.5.3+2\n",
            "  [276daf66] + SpecialFunctions v0.10.0\n",
            "  [a759f4b9] + TimerOutputs v0.5.3\n",
            "  [3bb67fe8] + TranscodingStreams v0.9.5\n",
            "  Building NNlib ────→ `~/.julia/packages/NNlib/3krvM/deps/build.log`\n",
            "  Building CodecZlib → `~/.julia/packages/CodecZlib/5t9zO/deps/build.log`\n",
            "  Building Knet ─────→ `~/.julia/packages/Knet/2xiR8/deps/build.log`\n",
            "Precompiling project...\n",
            "Precompiling Knet\n",
            "Precompiling IJulia\n",
            "Precompiling Plots\n",
            "Precompiling PyPlot\n",
            "  Building NNlib ────→ `~/.julia/packages/NNlib/3krvM/deps/build.log`\n",
            "  Building CodecZlib → `~/.julia/packages/CodecZlib/5t9zO/deps/build.log`\n",
            "  Building Knet ─────→ `~/.julia/packages/Knet/2xiR8/deps/build.log`\n"
          ],
          "name": "stdout"
        },
        {
          "output_type": "execute_result",
          "data": {
            "text/plain": [
              ""
            ]
          },
          "metadata": {
            "tags": []
          },
          "execution_count": 1
        }
      ]
    },
    {
      "cell_type": "code",
      "metadata": {
        "id": "1VdFDb9szt_o",
        "colab_type": "code",
        "outputId": "586bd408-e433-45aa-d6f6-82e1df77b83d",
        "colab": {
          "base_uri": "https://localhost:8080/",
          "height": 102
        }
      },
      "source": [
        "using Knet\n",
        "# Test if Knet is using gpu\n",
        "Knet.gpu()"
      ],
      "execution_count": 0,
      "outputs": [
        {
          "output_type": "stream",
          "text": [
            "┌ Info: Precompiling Knet [1902f260-5fb4-5aff-8c31-6271790ab950]\n",
            "└ @ Base loading.jl:1273\n",
            "┌ Warning: You are using CUDNN 7.6.5 for CUDA 10.1.0 with CUDA toolkit 10.0.145; these might be incompatible.\n",
            "└ @ CuArrays /root/.julia/packages/CuArrays/1njKF/src/CuArrays.jl:122\n"
          ],
          "name": "stderr"
        },
        {
          "output_type": "execute_result",
          "data": {
            "text/plain": [
              "0"
            ]
          },
          "metadata": {
            "tags": []
          },
          "execution_count": 1
        }
      ]
    },
    {
      "cell_type": "code",
      "metadata": {
        "id": "pWDXteAbeUmz",
        "colab_type": "code",
        "outputId": "5a879a7a-c080-4d1f-9fc7-03d0b45aa7ca",
        "colab": {
          "base_uri": "https://localhost:8080/",
          "height": 102
        }
      },
      "source": [
        "a = KnetArray(randn(4,4))\n",
        "sigm.(a)"
      ],
      "execution_count": 0,
      "outputs": [
        {
          "output_type": "execute_result",
          "data": {
            "text/plain": [
              "4×4 KnetArray{Float64,2}:\n",
              " 0.881196  0.770551  0.756286  0.674216\n",
              " 0.480851  0.82856   0.563325  0.146472\n",
              " 0.593402  0.258245  0.470386  0.364558\n",
              " 0.280699  0.479853  0.116356  0.263894"
            ]
          },
          "metadata": {
            "tags": []
          },
          "execution_count": 2
        }
      ]
    },
    {
      "cell_type": "code",
      "metadata": {
        "id": "Gq154xi_S_82",
        "colab_type": "code",
        "outputId": "5b1c6bd7-0b1c-46ce-f1c0-2273a298ddc8",
        "colab": {
          "base_uri": "https://localhost:8080/",
          "height": 1000
        }
      },
      "source": [
        "using Pkg\n",
        "Pkg.test(\"Knet\")"
      ],
      "execution_count": 0,
      "outputs": [
        {
          "output_type": "stream",
          "text": [
            "\u001b[32m\u001b[1m   Testing\u001b[22m\u001b[39m Knet\n",
            "\u001b[32m\u001b[1m Resolving\u001b[22m\u001b[39m package versions...\n",
            "\u001b[32m\u001b[1m    Status\u001b[22m\u001b[39m `/tmp/jl_Kg9Sin/Manifest.toml`\n",
            " \u001b[90m [621f4979]\u001b[39m\u001b[37m AbstractFFTs v0.5.0\u001b[39m\n",
            " \u001b[90m [79e6a3ab]\u001b[39m\u001b[37m Adapt v1.0.1\u001b[39m\n",
            " \u001b[90m [6710c13c]\u001b[39m\u001b[37m AutoGrad v1.2.1\u001b[39m\n",
            " \u001b[90m [b99e7846]\u001b[39m\u001b[37m BinaryProvider v0.5.8\u001b[39m\n",
            " \u001b[90m [fa961155]\u001b[39m\u001b[37m CEnum v0.2.0\u001b[39m\n",
            " \u001b[90m [3895d2a7]\u001b[39m\u001b[37m CUDAapi v2.1.0\u001b[39m\n",
            " \u001b[90m [c5f51814]\u001b[39m\u001b[37m CUDAdrv v5.1.0\u001b[39m\n",
            " \u001b[90m [be33ccc6]\u001b[39m\u001b[37m CUDAnative v2.9.1\u001b[39m\n",
            " \u001b[90m [944b1d66]\u001b[39m\u001b[37m CodecZlib v0.6.0\u001b[39m\n",
            " \u001b[90m [3a865a2d]\u001b[39m\u001b[37m CuArrays v1.7.0\u001b[39m\n",
            " \u001b[90m [864edb3b]\u001b[39m\u001b[37m DataStructures v0.17.9\u001b[39m\n",
            " \u001b[90m [5789e2e9]\u001b[39m\u001b[37m FileIO v1.2.2\u001b[39m\n",
            " \u001b[90m [0c68f7d7]\u001b[39m\u001b[37m GPUArrays v2.0.1\u001b[39m\n",
            " \u001b[90m [033835bb]\u001b[39m\u001b[37m JLD2 v0.1.11\u001b[39m\n",
            " \u001b[90m [1902f260]\u001b[39m\u001b[37m Knet v1.3.3\u001b[39m\n",
            " \u001b[90m [929cbde3]\u001b[39m\u001b[37m LLVM v1.3.3\u001b[39m\n",
            " \u001b[90m [1914dd2f]\u001b[39m\u001b[37m MacroTools v0.5.4\u001b[39m\n",
            " \u001b[90m [872c559c]\u001b[39m\u001b[37m NNlib v0.6.4\u001b[39m\n",
            " \u001b[90m [efe28fd5]\u001b[39m\u001b[37m OpenSpecFun_jll v0.5.3+1\u001b[39m\n",
            " \u001b[90m [bac558e1]\u001b[39m\u001b[37m OrderedCollections v1.1.0\u001b[39m\n",
            " \u001b[90m [ae029012]\u001b[39m\u001b[37m Requires v1.0.1\u001b[39m\n",
            " \u001b[90m [276daf66]\u001b[39m\u001b[37m SpecialFunctions v0.10.0\u001b[39m\n",
            " \u001b[90m [a759f4b9]\u001b[39m\u001b[37m TimerOutputs v0.5.3\u001b[39m\n",
            " \u001b[90m [3bb67fe8]\u001b[39m\u001b[37m TranscodingStreams v0.9.5\u001b[39m\n",
            " \u001b[90m [2a0f44e3]\u001b[39m\u001b[37m Base64  [`@stdlib/Base64`]\u001b[39m\n",
            " \u001b[90m [ade2ca70]\u001b[39m\u001b[37m Dates  [`@stdlib/Dates`]\u001b[39m\n",
            " \u001b[90m [8ba89e20]\u001b[39m\u001b[37m Distributed  [`@stdlib/Distributed`]\u001b[39m\n",
            " \u001b[90m [b77e0a4c]\u001b[39m\u001b[37m InteractiveUtils  [`@stdlib/InteractiveUtils`]\u001b[39m\n",
            " \u001b[90m [76f85450]\u001b[39m\u001b[37m LibGit2  [`@stdlib/LibGit2`]\u001b[39m\n",
            " \u001b[90m [8f399da3]\u001b[39m\u001b[37m Libdl  [`@stdlib/Libdl`]\u001b[39m\n",
            " \u001b[90m [37e2e46d]\u001b[39m\u001b[37m LinearAlgebra  [`@stdlib/LinearAlgebra`]\u001b[39m\n",
            " \u001b[90m [56ddb016]\u001b[39m\u001b[37m Logging  [`@stdlib/Logging`]\u001b[39m\n",
            " \u001b[90m [d6f4376e]\u001b[39m\u001b[37m Markdown  [`@stdlib/Markdown`]\u001b[39m\n",
            " \u001b[90m [a63ad114]\u001b[39m\u001b[37m Mmap  [`@stdlib/Mmap`]\u001b[39m\n",
            " \u001b[90m [44cfe95a]\u001b[39m\u001b[37m Pkg  [`@stdlib/Pkg`]\u001b[39m\n",
            " \u001b[90m [de0858da]\u001b[39m\u001b[37m Printf  [`@stdlib/Printf`]\u001b[39m\n",
            " \u001b[90m [3fa0cd96]\u001b[39m\u001b[37m REPL  [`@stdlib/REPL`]\u001b[39m\n",
            " \u001b[90m [9a3f8284]\u001b[39m\u001b[37m Random  [`@stdlib/Random`]\u001b[39m\n",
            " \u001b[90m [ea8e919c]\u001b[39m\u001b[37m SHA  [`@stdlib/SHA`]\u001b[39m\n",
            " \u001b[90m [9e88b42a]\u001b[39m\u001b[37m Serialization  [`@stdlib/Serialization`]\u001b[39m\n",
            " \u001b[90m [6462fe0b]\u001b[39m\u001b[37m Sockets  [`@stdlib/Sockets`]\u001b[39m\n",
            " \u001b[90m [2f01184e]\u001b[39m\u001b[37m SparseArrays  [`@stdlib/SparseArrays`]\u001b[39m\n",
            " \u001b[90m [10745b16]\u001b[39m\u001b[37m Statistics  [`@stdlib/Statistics`]\u001b[39m\n",
            " \u001b[90m [8dfed614]\u001b[39m\u001b[37m Test  [`@stdlib/Test`]\u001b[39m\n",
            " \u001b[90m [cf7118a7]\u001b[39m\u001b[37m UUIDs  [`@stdlib/UUIDs`]\u001b[39m\n",
            " \u001b[90m [4ec0a83e]\u001b[39m\u001b[37m Unicode  [`@stdlib/Unicode`]\u001b[39m\n"
          ],
          "name": "stdout"
        },
        {
          "output_type": "stream",
          "text": [
            "┌ Warning: You are using CUDNN 7.6.5 for CUDA 10.1.0 with CUDA toolkit 10.0.145; these might be incompatible.\n",
            "└ @ CuArrays ~/.julia/packages/CuArrays/1njKF/src/CuArrays.jl:122\n"
          ],
          "name": "stderr"
        },
        {
          "output_type": "stream",
          "text": [
            "  0.557262 seconds (408.42 k allocations: 21.173 MiB, 55.37% gc time)\n",
            "Knet.gpuCount() = 1\n",
            "Knet.gpu() = 0\n",
            "Knet.tk = [\"/usr/local/cuda-10.0\", \"/usr/local/cuda-10.0/targets/x86_64-linux\", \"/usr/local/cuda-10.1\"]\n",
            "Knet.libknet8 = \"/root/.julia/packages/Knet/2xiR8/deps/libknet8\"\n",
            "Knet.cudartfound = true\n",
            "Knet.cudaRuntimeVersion = 10000\n",
            "Knet.cudaDriverVersion = 10010\n",
            "Knet.cudaGetDeviceCount() = 1\n",
            "Knet.cudaGetDevice() = 0\n",
            "Knet.cudaMemGetInfo() = (15578562560, 15812263936)\n",
            "Knet.cudaDeviceSynchronize() = nothing\n",
            "Knet.nvmlfound = true\n",
            "Knet.nvmlDriverVersion = \"418.67\"\n",
            "Knet.nvmlVersion = \"10.418.67\"\n",
            "Knet.nvmlDeviceGetMemoryInfo() = (15812263936, 15578562560, 233701376)\n",
            "Knet.cublashandle() = Ptr{Nothing} @0x0000000010108000\n",
            "Knet.cublasVersion = 10000\n",
            "Knet.cudnnhandle() = Ptr{Nothing} @0x0000000008881200\n",
            "Knet.cudnnVersion = 7605\n",
            "Knet.dir() = \"/root/.julia/packages/Knet/2xiR8\"\n",
            "readdir(Knet.dir(\"deps\")) = [\".deprecated\", \".gitignore\", \"Makefile\", \"README.windows\", \"build.jl\", \"build.log\", \"cuda01.cu\", \"cuda01.jl\", \"cuda01.o\", \"cuda1.cu\", \"cuda1.jl\", \"cuda1.o\", \"cuda11.cu\", \"cuda11.jl\", \"cuda11.o\", \"cuda12.cu\", \"cuda12.jl\", \"cuda12.o\", \"cuda13.cu\", \"cuda13.jl\", \"cuda13.o\", \"cuda14.jl\", \"cuda16.cu\", \"cuda16.jl\", \"cuda16.o\", \"cuda17.cu\", \"cuda17.jl\", \"cuda17.o\", \"cuda20.cu\", \"cuda20.jl\", \"cuda20.o\", \"cuda21.cu\", \"cuda21.jl\", \"cuda21.o\", \"cuda22.cu\", \"cuda22.jl\", \"cuda22.o\", \"gamma.jl\", \"libknet8.so\"]\n",
            "  7.784153 seconds (3.96 M allocations: 197.339 MiB, 0.73% gc time)\n",
            "  1.531053 seconds (4.78 M allocations: 236.289 MiB, 3.10% gc time)\n",
            "  3.422780 seconds (6.08 M allocations: 314.037 MiB, 2.12% gc time)\n",
            " 24.798310 seconds (61.41 M allocations: 2.984 GiB, 5.77% gc time)\n",
            "  2.769554 seconds (6.44 M allocations: 323.676 MiB, 4.58% gc time)\n",
            "  0.024069 seconds (8.25 k allocations: 484.336 KiB)\n",
            " 10.993409 seconds (21.30 M allocations: 1.072 GiB, 3.71% gc time)\n"
          ],
          "name": "stdout"
        },
        {
          "output_type": "stream",
          "text": [
            "[ Info: Building the CUDAnative run-time library for your sm_70 device, this might take a while...\n"
          ],
          "name": "stderr"
        },
        {
          "output_type": "stream",
          "text": [
            " 28.268996 seconds (51.06 M allocations: 2.543 GiB, 3.58% gc time)\n",
            " 12.579954 seconds (24.97 M allocations: 1.235 GiB, 4.56% gc time)\n",
            " 23.631599 seconds (49.92 M allocations: 2.454 GiB, 3.39% gc time)\n",
            " 23.357788 seconds (49.65 M allocations: 2.438 GiB, 3.58% gc time)\n",
            " 23.247820 seconds (47.42 M allocations: 2.375 GiB, 3.67% gc time)\n",
            " 38.484064 seconds (74.67 M allocations: 3.708 GiB, 3.42% gc time)\n",
            " 51.399438 seconds (119.55 M allocations: 5.658 GiB, 4.38% gc time)\n",
            "Knet: Error During Test at /root/.julia/packages/Knet/2xiR8/test/runtests.jl:2\n",
            "  Got exception outside of a @test\n",
            "  LoadError: InterruptException:\n",
            "  Stacktrace:\n",
            "   [1] #differentiate#3(::Base.Iterators.Pairs{Union{},Union{},Tuple{},NamedTuple{(),Tuple{}}}, ::typeof(AutoGrad.differentiate), ::Function) at /root/.julia/packages/AutoGrad/FSgUc/src/core.jl:165\n",
            "   [2] differentiate at /root/.julia/packages/AutoGrad/FSgUc/src/core.jl:135 [inlined]\n",
            "   [3] #gradcheck#216(::Tuple{}, ::Function, ::Int64, ::Int64, ::Float64, ::Float64, ::Float64, ::typeof(gradcheck), ::var\"#conv41#195\"{var\"#conv41#193#196\"}, ::Tuple{Array{Float64,5},Array{Float64,5}}) at /root/.julia/packages/AutoGrad/FSgUc/test/gradcheck.jl:39\n",
            "   [4] (::AutoGrad.var\"#kw##gradcheck\")(::NamedTuple{(:rtol,),Tuple{Float64}}, ::typeof(gradcheck), ::Function, ::Tuple{Array{Float64,5},Array{Float64,5}}) at ./none:0\n",
            "   [5] top-level scope at /root/.julia/packages/Knet/2xiR8/test/conv.jl:50\n",
            "   [6] top-level scope at /buildworker/worker/package_linux64/build/usr/share/julia/stdlib/v1.3/Test/src/Test.jl:1107\n",
            "   [7] top-level scope at /root/.julia/packages/Knet/2xiR8/test/conv.jl:33\n",
            "   [8] top-level scope at /buildworker/worker/package_linux64/build/usr/share/julia/stdlib/v1.3/Test/src/Test.jl:1107\n",
            "   [9] top-level scope at /root/.julia/packages/Knet/2xiR8/test/conv.jl:7\n",
            "   [10] include at ./boot.jl:328 [inlined]\n",
            "   [11] include_relative(::Module, ::String) at ./loading.jl:1105\n",
            "   [12] include(::Module, ::String) at ./Base.jl:31\n",
            "   [13] include(::String) at ./client.jl:424\n",
            "   [14] top-level scope at util.jl:155\n",
            "   [15] top-level scope at /root/.julia/packages/Knet/2xiR8/test/runtests.jl:21\n",
            "   [16] top-level scope at /buildworker/worker/package_linux64/build/usr/share/julia/stdlib/v1.3/Test/src/Test.jl:1107\n",
            "   [17] top-level scope at /root/.julia/packages/Knet/2xiR8/test/runtests.jl:6\n",
            "   [18] include at ./boot.jl:328 [inlined]\n",
            "   [19] include_relative(::Module, ::String) at ./loading.jl:1105\n",
            "   [20] include(::Module, ::String) at ./Base.jl:31\n",
            "   [21] include(::String) at ./client.jl:424\n",
            "   [22] top-level scope at none:6\n",
            "   [23] eval(::Module, ::Any) at ./boot.jl:330\n",
            "   [24] exec_options(::Base.JLOptions) at ./client.jl:263\n",
            "   [25] _start() at ./client.jl:460\n",
            "  in expression starting at /root/.julia/packages/Knet/2xiR8/test/conv.jl:5\n",
            "  \n",
            "\u001b[32m\u001b[1m   Testing\u001b[22m\u001b[39m Knet tests passed \n"
          ],
          "name": "stdout"
        }
      ]
    },
    {
      "cell_type": "markdown",
      "metadata": {
        "id": "o-jLPq0_rqUl",
        "colab_type": "text"
      },
      "source": [
        "# 1-4"
      ]
    },
    {
      "cell_type": "markdown",
      "metadata": {
        "id": "knaESU28ru17",
        "colab_type": "text"
      },
      "source": [
        "1.   784 * 10 + 10 = 7850\n",
        "2.   30 * 784 + 30 + 10* 30 + 10 = 23860\n",
        "3.   60 * 784 + 60 + 10 * 60 + 10 = 47710\n",
        "4.   30 * 784 + 30 + 30 * 30 + 30 + 10 * 30 + 10 = 24790"
      ]
    },
    {
      "cell_type": "markdown",
      "metadata": {
        "id": "6FHvGP1luP3I",
        "colab_type": "text"
      },
      "source": [
        "# 5"
      ]
    },
    {
      "cell_type": "code",
      "metadata": {
        "id": "VB5Yys4nsM2z",
        "colab_type": "code",
        "outputId": "ed9b1a4d-f64f-46b6-9c3b-0b05be8cd477",
        "colab": {
          "base_uri": "https://localhost:8080/",
          "height": 34
        }
      },
      "source": [
        "atype = KnetArray{Float32,4} "
      ],
      "execution_count": 0,
      "outputs": [
        {
          "output_type": "execute_result",
          "data": {
            "text/plain": [
              "KnetArray{Float32,4}"
            ]
          },
          "metadata": {
            "tags": []
          },
          "execution_count": 3
        }
      ]
    },
    {
      "cell_type": "code",
      "metadata": {
        "id": "WPd_iHZnrIvW",
        "colab_type": "code",
        "outputId": "d0560627-c886-4732-a0bc-8688a9fe659b",
        "colab": {
          "base_uri": "https://localhost:8080/",
          "height": 1000
        }
      },
      "source": [
        "# Load packages, import symbols\n",
        "using Pkg; for p in (\"Knet\",\"Images\",\"ImageMagick\"); haskey(Pkg.installed(),p) || Pkg.add(p); end\n",
        "using Knet: Knet, dir, minibatch, Data\n",
        "# This loads the MNIST handwritten digit recognition dataset:\n",
        "include(Knet.dir(\"data\",\"mnist.jl\")) # Knet.dir constructs a path relative to Knet root\n",
        "dtrn, dtst = mnistdata(;batchsize=100, xtype=atype)#data ready to use in convolutional neural networks"
      ],
      "execution_count": 0,
      "outputs": [
        {
          "output_type": "stream",
          "text": [
            "\u001b[32m\u001b[1m  Updating\u001b[22m\u001b[39m registry at `~/.julia/registries/General`\n",
            "\u001b[32m\u001b[1m  Updating\u001b[22m\u001b[39m git-repo `https://github.com/JuliaRegistries/General.git`\n",
            "\u001b[2K\u001b[?25h\u001b[32m\u001b[1m Resolving\u001b[22m\u001b[39m package versions...\n",
            "\u001b[32m\u001b[1m Installed\u001b[22m\u001b[39m PaddedViews ─────────────── v0.5.1\n",
            "\u001b[32m\u001b[1m Installed\u001b[22m\u001b[39m RangeArrays ─────────────── v0.3.2\n",
            "\u001b[32m\u001b[1m Installed\u001b[22m\u001b[39m IntelOpenMP_jll ─────────── v2018.0.3+0\n",
            "\u001b[32m\u001b[1m Installed\u001b[22m\u001b[39m ImageTransformations ────── v0.8.3\n",
            "\u001b[32m\u001b[1m Installed\u001b[22m\u001b[39m IterTools ───────────────── v1.3.0\n",
            "\u001b[32m\u001b[1m Installed\u001b[22m\u001b[39m ImageShow ───────────────── v0.2.3\n",
            "\u001b[32m\u001b[1m Installed\u001b[22m\u001b[39m Images ──────────────────── v0.22.0\n",
            "\u001b[32m\u001b[1m Installed\u001b[22m\u001b[39m Interpolations ──────────── v0.12.5\n",
            "\u001b[32m\u001b[1m Installed\u001b[22m\u001b[39m Ratios ──────────────────── v0.4.0\n",
            "\u001b[32m\u001b[1m Installed\u001b[22m\u001b[39m FFTViews ────────────────── v0.3.1\n",
            "\u001b[32m\u001b[1m Installed\u001b[22m\u001b[39m EllipsisNotation ────────── v0.4.0\n",
            "\u001b[32m\u001b[1m Installed\u001b[22m\u001b[39m CoordinateTransformations ─ v0.5.0\n",
            "\u001b[32m\u001b[1m Installed\u001b[22m\u001b[39m ImageDistances ──────────── v0.2.7\n",
            "\u001b[32m\u001b[1m Installed\u001b[22m\u001b[39m ComputationalResources ──── v0.3.1\n",
            "\u001b[32m\u001b[1m Installed\u001b[22m\u001b[39m ImageCore ───────────────── v0.8.11\n",
            "\u001b[32m\u001b[1m Installed\u001b[22m\u001b[39m MappedArrays ────────────── v0.2.2\n",
            "\u001b[32m\u001b[1m Installed\u001b[22m\u001b[39m SimpleTraits ────────────── v0.9.1\n",
            "\u001b[32m\u001b[1m Installed\u001b[22m\u001b[39m FFTW ────────────────────── v1.2.0\n",
            "\u001b[32m\u001b[1m Installed\u001b[22m\u001b[39m Distances ───────────────── v0.8.2\n",
            "\u001b[32m\u001b[1m Installed\u001b[22m\u001b[39m IdentityRanges ──────────── v0.3.1\n",
            "\u001b[32m\u001b[1m Installed\u001b[22m\u001b[39m ImageMetadata ───────────── v0.9.0\n",
            "\u001b[32m\u001b[1m Installed\u001b[22m\u001b[39m AxisArrays ──────────────── v0.4.2\n",
            "\u001b[32m\u001b[1m Installed\u001b[22m\u001b[39m CatIndices ──────────────── v0.2.1\n",
            "\u001b[32m\u001b[1m Installed\u001b[22m\u001b[39m Graphics ────────────────── v1.0.1\n",
            "\u001b[32m\u001b[1m Installed\u001b[22m\u001b[39m WoodburyMatrices ────────── v0.5.1\n",
            "\u001b[32m\u001b[1m Installed\u001b[22m\u001b[39m ColorVectorSpace ────────── v0.8.3\n",
            "\u001b[32m\u001b[1m Installed\u001b[22m\u001b[39m OffsetArrays ────────────── v1.0.2\n",
            "\u001b[32m\u001b[1m Installed\u001b[22m\u001b[39m ImageMorphology ─────────── v0.2.5\n",
            "\u001b[32m\u001b[1m Installed\u001b[22m\u001b[39m CustomUnitRanges ────────── v1.0.0\n",
            "\u001b[32m\u001b[1m Installed\u001b[22m\u001b[39m IntervalSets ────────────── v0.4.0\n",
            "\u001b[32m\u001b[1m Installed\u001b[22m\u001b[39m AxisAlgorithms ──────────── v1.0.0\n",
            "\u001b[32m\u001b[1m Installed\u001b[22m\u001b[39m Rotations ───────────────── v0.13.0\n",
            "\u001b[32m\u001b[1m Installed\u001b[22m\u001b[39m TiledIteration ──────────── v0.2.4\n",
            "\u001b[32m\u001b[1m Installed\u001b[22m\u001b[39m ImageAxes ───────────────── v0.6.4\n",
            "\u001b[32m\u001b[1m Installed\u001b[22m\u001b[39m Parameters ──────────────── v0.12.0\n",
            "\u001b[32m\u001b[1m Installed\u001b[22m\u001b[39m IndirectArrays ──────────── v0.5.1\n",
            "\u001b[32m\u001b[1m Installed\u001b[22m\u001b[39m ImageQualityIndexes ─────── v0.1.3\n",
            "\u001b[32m\u001b[1m Installed\u001b[22m\u001b[39m ImageContrastAdjustment ─── v0.3.3\n",
            "\u001b[32m\u001b[1m Installed\u001b[22m\u001b[39m ImageFiltering ──────────── v0.6.11\n",
            "\u001b[32m\u001b[1m Installed\u001b[22m\u001b[39m MKL_jll ─────────────────── v2019.0.117+2\n",
            "\u001b[32m\u001b[1m Installed\u001b[22m\u001b[39m FFTW_jll ────────────────── v3.3.9+4\n",
            "\u001b[32m\u001b[1m  Updating\u001b[22m\u001b[39m `~/.julia/environments/v1.3/Project.toml`\n",
            " \u001b[90m [916415d5]\u001b[39m\u001b[92m + Images v0.22.0\u001b[39m\n",
            "\u001b[32m\u001b[1m  Updating\u001b[22m\u001b[39m `~/.julia/environments/v1.3/Manifest.toml`\n",
            " \u001b[90m [13072b0f]\u001b[39m\u001b[92m + AxisAlgorithms v1.0.0\u001b[39m\n",
            " \u001b[90m [39de3d68]\u001b[39m\u001b[92m + AxisArrays v0.4.2\u001b[39m\n",
            " \u001b[90m [aafaddc9]\u001b[39m\u001b[92m + CatIndices v0.2.1\u001b[39m\n",
            " \u001b[90m [c3611d14]\u001b[39m\u001b[92m + ColorVectorSpace v0.8.3\u001b[39m\n",
            " \u001b[90m [ed09eef8]\u001b[39m\u001b[92m + ComputationalResources v0.3.1\u001b[39m\n",
            " \u001b[90m [150eb455]\u001b[39m\u001b[92m + CoordinateTransformations v0.5.0\u001b[39m\n",
            " \u001b[90m [dc8bdbbb]\u001b[39m\u001b[92m + CustomUnitRanges v1.0.0\u001b[39m\n",
            " \u001b[90m [b4f34e82]\u001b[39m\u001b[92m + Distances v0.8.2\u001b[39m\n",
            " \u001b[90m [da5c29d0]\u001b[39m\u001b[92m + EllipsisNotation v0.4.0\u001b[39m\n",
            " \u001b[90m [4f61f5a4]\u001b[39m\u001b[92m + FFTViews v0.3.1\u001b[39m\n",
            " \u001b[90m [7a1cc6ca]\u001b[39m\u001b[92m + FFTW v1.2.0\u001b[39m\n",
            " \u001b[90m [f5851436]\u001b[39m\u001b[92m + FFTW_jll v3.3.9+4\u001b[39m\n",
            " \u001b[90m [a2bd30eb]\u001b[39m\u001b[92m + Graphics v1.0.1\u001b[39m\n",
            " \u001b[90m [bbac6d45]\u001b[39m\u001b[92m + IdentityRanges v0.3.1\u001b[39m\n",
            " \u001b[90m [2803e5a7]\u001b[39m\u001b[92m + ImageAxes v0.6.4\u001b[39m\n",
            " \u001b[90m [f332f351]\u001b[39m\u001b[92m + ImageContrastAdjustment v0.3.3\u001b[39m\n",
            " \u001b[90m [a09fc81d]\u001b[39m\u001b[92m + ImageCore v0.8.11\u001b[39m\n",
            " \u001b[90m [51556ac3]\u001b[39m\u001b[92m + ImageDistances v0.2.7\u001b[39m\n",
            " \u001b[90m [6a3955dd]\u001b[39m\u001b[92m + ImageFiltering v0.6.11\u001b[39m\n",
            " \u001b[90m [bc367c6b]\u001b[39m\u001b[92m + ImageMetadata v0.9.0\u001b[39m\n",
            " \u001b[90m [787d08f9]\u001b[39m\u001b[92m + ImageMorphology v0.2.5\u001b[39m\n",
            " \u001b[90m [2996bd0c]\u001b[39m\u001b[92m + ImageQualityIndexes v0.1.3\u001b[39m\n",
            " \u001b[90m [4e3cecfd]\u001b[39m\u001b[92m + ImageShow v0.2.3\u001b[39m\n",
            " \u001b[90m [02fcd773]\u001b[39m\u001b[92m + ImageTransformations v0.8.3\u001b[39m\n",
            " \u001b[90m [916415d5]\u001b[39m\u001b[92m + Images v0.22.0\u001b[39m\n",
            " \u001b[90m [9b13fd28]\u001b[39m\u001b[92m + IndirectArrays v0.5.1\u001b[39m\n",
            " \u001b[90m [1d5cc7b8]\u001b[39m\u001b[92m + IntelOpenMP_jll v2018.0.3+0\u001b[39m\n",
            " \u001b[90m [a98d9a8b]\u001b[39m\u001b[92m + Interpolations v0.12.5\u001b[39m\n",
            " \u001b[90m [8197267c]\u001b[39m\u001b[92m + IntervalSets v0.4.0\u001b[39m\n",
            " \u001b[90m [c8e1da08]\u001b[39m\u001b[92m + IterTools v1.3.0\u001b[39m\n",
            " \u001b[90m [856f044c]\u001b[39m\u001b[92m + MKL_jll v2019.0.117+2\u001b[39m\n",
            " \u001b[90m [dbb5928d]\u001b[39m\u001b[92m + MappedArrays v0.2.2\u001b[39m\n",
            " \u001b[90m [6fe1bfb0]\u001b[39m\u001b[92m + OffsetArrays v1.0.2\u001b[39m\n",
            " \u001b[90m [5432bcbf]\u001b[39m\u001b[92m + PaddedViews v0.5.1\u001b[39m\n",
            " \u001b[90m [d96e819e]\u001b[39m\u001b[92m + Parameters v0.12.0\u001b[39m\n",
            " \u001b[90m [b3c3ace0]\u001b[39m\u001b[92m + RangeArrays v0.3.2\u001b[39m\n",
            " \u001b[90m [c84ed2f1]\u001b[39m\u001b[92m + Ratios v0.4.0\u001b[39m\n",
            " \u001b[90m [6038ab10]\u001b[39m\u001b[92m + Rotations v0.13.0\u001b[39m\n",
            " \u001b[90m [699a6c99]\u001b[39m\u001b[92m + SimpleTraits v0.9.1\u001b[39m\n",
            " \u001b[90m [06e1c1a7]\u001b[39m\u001b[92m + TiledIteration v0.2.4\u001b[39m\n",
            " \u001b[90m [efce3f68]\u001b[39m\u001b[92m + WoodburyMatrices v0.5.1\u001b[39m\n",
            "\u001b[32m\u001b[1m  Building\u001b[22m\u001b[39m FFTW → `~/.julia/packages/FFTW/qqcBj/deps/build.log`\n",
            "\u001b[32m\u001b[1m Resolving\u001b[22m\u001b[39m package versions...\n",
            "\u001b[32m\u001b[1m Installed\u001b[22m\u001b[39m Zstd_jll ──────── v1.4.4+0\n",
            "\u001b[32m\u001b[1m Installed\u001b[22m\u001b[39m libpng_jll ────── v1.6.37+2\n",
            "\u001b[32m\u001b[1m Installed\u001b[22m\u001b[39m JpegTurbo_jll ─── v2.0.1+0\n",
            "\u001b[32m\u001b[1m Installed\u001b[22m\u001b[39m ImageMagick ───── v1.1.2\n",
            "\u001b[32m\u001b[1m Installed\u001b[22m\u001b[39m Libtiff_jll ───── v4.0.10+0\n",
            "\u001b[32m\u001b[1m Installed\u001b[22m\u001b[39m ImageMagick_jll ─ v6.9.10-12+0\n",
            "\u001b[32m\u001b[1m  Updating\u001b[22m\u001b[39m `~/.julia/environments/v1.3/Project.toml`\n",
            " \u001b[90m [6218d12a]\u001b[39m\u001b[92m + ImageMagick v1.1.2\u001b[39m\n",
            "\u001b[32m\u001b[1m  Updating\u001b[22m\u001b[39m `~/.julia/environments/v1.3/Manifest.toml`\n",
            " \u001b[90m [6218d12a]\u001b[39m\u001b[92m + ImageMagick v1.1.2\u001b[39m\n",
            " \u001b[90m [c73af94c]\u001b[39m\u001b[92m + ImageMagick_jll v6.9.10-12+0\u001b[39m\n",
            " \u001b[90m [aacddb02]\u001b[39m\u001b[92m + JpegTurbo_jll v2.0.1+0\u001b[39m\n",
            " \u001b[90m [89763e89]\u001b[39m\u001b[92m + Libtiff_jll v4.0.10+0\u001b[39m\n",
            " \u001b[90m [3161d3a3]\u001b[39m\u001b[92m + Zstd_jll v1.4.4+0\u001b[39m\n",
            " \u001b[90m [b53b4c65]\u001b[39m\u001b[92m + libpng_jll v1.6.37+2\u001b[39m\n",
            "\u001b[32m\u001b[1m Resolving\u001b[22m\u001b[39m package versions...\n",
            "\u001b[32m\u001b[1m  Updating\u001b[22m\u001b[39m `~/.julia/environments/v1.3/Project.toml`\n",
            " \u001b[90m [944b1d66]\u001b[39m\u001b[92m + CodecZlib v0.6.0\u001b[39m\n",
            "\u001b[32m\u001b[1m  Updating\u001b[22m\u001b[39m `~/.julia/environments/v1.3/Manifest.toml`\n",
            "\u001b[90m [no changes]\u001b[39m\n"
          ],
          "name": "stdout"
        },
        {
          "output_type": "stream",
          "text": [
            "┌ Info: Loading MNIST...\n",
            "└ @ Main /root/.julia/packages/Knet/2xiR8/data/mnist.jl:33\n"
          ],
          "name": "stderr"
        },
        {
          "output_type": "execute_result",
          "data": {
            "text/plain": [
              "(Data{Tuple{KnetArray{Float32,4},Array{UInt8,1}}}(Float32[0.0 0.0 … 0.0 0.0; 0.0 0.0 … 0.0 0.0; … ; 0.0 0.0 … 0.0 0.0; 0.0 0.0 … 0.0 0.0], UInt8[0x05 0x0a … 0x06 0x08], 100, 60000, false, 59901, 1:60000, false, (28, 28, 1, 60000), (60000,), KnetArray{Float32,4}, Array{UInt8,1}), Data{Tuple{KnetArray{Float32,4},Array{UInt8,1}}}(Float32[0.0 0.0 … 0.0 0.0; 0.0 0.0 … 0.0 0.0; … ; 0.0 0.0 … 0.0 0.0; 0.0 0.0 … 0.0 0.0], UInt8[0x07 0x02 … 0x05 0x06], 100, 10000, false, 9901, 1:10000, false, (28, 28, 1, 10000), (10000,), KnetArray{Float32,4}, Array{UInt8,1}))"
            ]
          },
          "metadata": {
            "tags": []
          },
          "execution_count": 4
        }
      ]
    },
    {
      "cell_type": "code",
      "metadata": {
        "id": "0MzkwomptaFj",
        "colab_type": "code",
        "colab": {}
      },
      "source": [
        "using Knet: Knet, conv4, pool, mat, KnetArray, nll, zeroone, progress, sgd, param, param0, dropout, relu, Data, gpu, sigm, adam"
      ],
      "execution_count": 0,
      "outputs": []
    },
    {
      "cell_type": "code",
      "metadata": {
        "id": "veHHFY_JcSXx",
        "colab_type": "code",
        "colab": {}
      },
      "source": [
        "using Statistics"
      ],
      "execution_count": 0,
      "outputs": []
    },
    {
      "cell_type": "markdown",
      "metadata": {
        "id": "-dwjIVLjupMH",
        "colab_type": "text"
      },
      "source": [
        "Implementing a Convolutional Neural Network that has a conv4 and a pool layer where there are three 5x5 filters. Use 2x2 pooling and use sigmoid as activation function. Use stride=1(default) for the conv4 and stride=2(default) for the pool operation. Use padding=0 for the conv4 operation. Feed the output of the pool layer to a softmax classifier. General order of the operations (cbfp) in a convolutional neural network as following:\n",
        "Apply convolution (c)\n",
        "Add bias (b)\n",
        "Apply the activation function (f)\n",
        "Apply the pooling (p)\n"
      ]
    },
    {
      "cell_type": "markdown",
      "metadata": {
        "id": "FY8xuDYnRtYb",
        "colab_type": "text"
      },
      "source": [
        "In part 5, you will implement a convolutional neural network and explore the learning curve of the model. Plot two figures such as epoch vs train and test losses (negative log likelihood), and epoch vs train and test misclassification errors. You can create a table for the experiments instead of plotting figures for the lab session. Use standard sgd with learning rate= 0.15 for updating model parameters. Train the model on mini-batches and use 100 images in each minibatch. Pass over all data 100 times (i.e. epochs=100) to train the model. You can start with the code that you implemented in the previous lab session."
      ]
    },
    {
      "cell_type": "code",
      "metadata": {
        "id": "2i33rOzbwJkV",
        "colab_type": "code",
        "outputId": "8f4a9870-0940-4ba5-9c51-64a34eba9a0c",
        "colab": {
          "base_uri": "https://localhost:8080/",
          "height": 34
        }
      },
      "source": [
        "# Define a convolutional layer:\n",
        "struct Conv; w; b; f; p; end\n",
        "(c::Conv)(x) = pool(c.f.(conv4(c.w, x; padding=0) .+ c.b); window=2)\n",
        "Conv(w1::Int,w2::Int,cx::Int,cy::Int,f=sigm; pdrop=0) = Conv(param(w1,w2,cx,cy), param0(1,1,cy,1), f, pdrop)"
      ],
      "execution_count": 0,
      "outputs": [
        {
          "output_type": "execute_result",
          "data": {
            "text/plain": [
              "Conv"
            ]
          },
          "metadata": {
            "tags": []
          },
          "execution_count": 7
        }
      ]
    },
    {
      "cell_type": "code",
      "metadata": {
        "id": "fr-bE1wcTVaB",
        "colab_type": "code",
        "colab": {}
      },
      "source": [
        "using Knet:Data\n",
        "import Base: length, size, iterate, eltype, IteratorSize, IteratorEltype, haslength, @propagate_inbounds, repeat, rand, tail\n",
        "import .Iterators: cycle, Cycle, take\n",
        "using Plots; default(fmt=:png,ls=:auto)"
      ],
      "execution_count": 0,
      "outputs": []
    },
    {
      "cell_type": "code",
      "metadata": {
        "id": "aVbhS9FRXa8d",
        "colab_type": "code",
        "outputId": "58119f68-38bb-4246-ef15-6544d8cf151c",
        "colab": {
          "base_uri": "https://localhost:8080/",
          "height": 34
        }
      },
      "source": [
        "# Define dense layer\n",
        "struct DenseLayer; w; b; end\n",
        "(d::DenseLayer)(x) = d.w * mat(x) .+ d.b\n",
        "DenseLayer(i::Int,o::Int) = DenseLayer(param(o,i), param0(o))"
      ],
      "execution_count": 0,
      "outputs": [
        {
          "output_type": "execute_result",
          "data": {
            "text/plain": [
              "DenseLayer"
            ]
          },
          "metadata": {
            "tags": []
          },
          "execution_count": 9
        }
      ]
    },
    {
      "cell_type": "code",
      "metadata": {
        "id": "-eqA1_vcTb5r",
        "colab_type": "code",
        "colab": {}
      },
      "source": [
        "# Define a chain\n",
        "struct Chain\n",
        "    layers\n",
        "    Chain(layers...) = new(layers)\n",
        "end\n",
        "(c::Chain)(x) = (for l in c.layers; x = l(x); end; x)\n",
        "(c::Chain)(x,y) = nll(c(x),y)\n",
        "(c::Chain)(d::Data) = mean(c(x,y) for (x,y) in d)"
      ],
      "execution_count": 0,
      "outputs": []
    },
    {
      "cell_type": "code",
      "metadata": {
        "id": "fIa94QTyV94n",
        "colab_type": "code",
        "outputId": "350d0702-630d-4db0-b2c1-15ca7071b275",
        "colab": {
          "base_uri": "https://localhost:8080/",
          "height": 34
        }
      },
      "source": [
        "function mytrain!(c::Chain, dtrn, dtst, valid=10, max_iters=500)\n",
        "    function task(c::Chain, trnloss, tstloss, dtrn, dtst)\n",
        "    append!(trnloss, c(dtrn))\n",
        "    append!(tstloss, c(dtst))\n",
        "    end\n",
        "    trnloss = []\n",
        "    tstloss = []                        \n",
        "    progress!((task(c, trnloss, tstloss, dtrn, dtst) for x in (x for (i,x) in enumerate(sgd(c, cycle(dtrn), lr=0.15)) if i % valid == 1)))    \n",
        "    return 0:valid:max_iters, trnloss, tstloss\n",
        "end"
      ],
      "execution_count": 0,
      "outputs": [
        {
          "output_type": "execute_result",
          "data": {
            "text/plain": [
              "mytrain! (generic function with 3 methods)"
            ]
          },
          "metadata": {
            "tags": []
          },
          "execution_count": 11
        }
      ]
    },
    {
      "cell_type": "code",
      "metadata": {
        "id": "USsSAY7LP5J0",
        "colab_type": "code",
        "outputId": "bb6b34e4-8cd9-4a95-8224-85622382fbdd",
        "colab": {
          "base_uri": "https://localhost:8080/",
          "height": 54
        }
      },
      "source": [
        "model = Chain(Conv(5,5,1,3),\n",
        "           DenseLayer(432,10))"
      ],
      "execution_count": 0,
      "outputs": [
        {
          "output_type": "execute_result",
          "data": {
            "text/plain": [
              "Chain((Conv(P(KnetArray{Float32,4}(5,5,1,3)), P(KnetArray{Float32,4}(1,1,3,1)), Knet.sigm, 0), DenseLayer(P(KnetArray{Float32,2}(10,432)), P(KnetArray{Float32,1}(10)))))"
            ]
          },
          "metadata": {
            "tags": []
          },
          "execution_count": 12
        }
      ]
    },
    {
      "cell_type": "code",
      "metadata": {
        "id": "JtU_3qoAO5iN",
        "colab_type": "code",
        "outputId": "1016c1dc-147f-4236-a454-3b75338f7140",
        "colab": {
          "base_uri": "https://localhost:8080/",
          "height": 136
        }
      },
      "source": [
        "import Pkg; Pkg.add(\"IterTools\")\n",
        "using IterTools: ncycle, takenth"
      ],
      "execution_count": 0,
      "outputs": [
        {
          "output_type": "stream",
          "text": [
            "\u001b[32m\u001b[1m Resolving\u001b[22m\u001b[39m package versions...\n",
            "\u001b[32m\u001b[1m  Updating\u001b[22m\u001b[39m `~/.julia/environments/v1.3/Project.toml`\n",
            " \u001b[90m [c8e1da08]\u001b[39m\u001b[92m + IterTools v1.3.0\u001b[39m\n",
            "\u001b[32m\u001b[1m  Updating\u001b[22m\u001b[39m `~/.julia/environments/v1.3/Manifest.toml`\n",
            "\u001b[90m [no changes]\u001b[39m\n"
          ],
          "name": "stdout"
        },
        {
          "output_type": "stream",
          "text": [
            "┌ Info: Precompiling IterTools [c8e1da08-722c-5040-9ed9-7db0dc04731e]\n",
            "└ @ Base loading.jl:1273\n"
          ],
          "name": "stderr"
        }
      ]
    },
    {
      "cell_type": "code",
      "metadata": {
        "id": "kAvGRWeHPVDq",
        "colab_type": "code",
        "colab": {}
      },
      "source": [
        "using Base.Iterators: flatten"
      ],
      "execution_count": 0,
      "outputs": []
    },
    {
      "cell_type": "code",
      "metadata": {
        "id": "jgZkeNx7OByi",
        "colab_type": "code",
        "outputId": "44cfb01e-159a-47af-c778-a3157ab4f9f2",
        "colab": {
          "base_uri": "https://localhost:8080/",
          "height": 34
        }
      },
      "source": [
        "function trainresults(file, model)\n",
        "    # We will train 100 epochs (the following returns an iterator, does not start training)\n",
        "    training = sgd(model, ncycle(dtrn,100),lr=0.15)\n",
        "    # We will snapshot model and train/test loss and errors\n",
        "    snapshot() = (deepcopy(model),model(dtrn),model(dtst),zeroone(model,dtrn),zeroone(model,dtst))\n",
        "    # Snapshot results once every epoch (still an iterator)\n",
        "    snapshots = (snapshot() for x in takenth(progress(training),length(dtrn)))\n",
        "    # Run the snapshot/training iterator, reshape and save results as a 5x100 array\n",
        "    lin = reshape(collect(flatten(snapshots)),(5,:))\n",
        "    # Knet.save and Knet.load can be used to store models in files\n",
        "    Knet.save(file,\"results\",lin)\n",
        "    return lin\n",
        "end"
      ],
      "execution_count": 0,
      "outputs": [
        {
          "output_type": "execute_result",
          "data": {
            "text/plain": [
              "trainresults (generic function with 1 method)"
            ]
          },
          "metadata": {
            "tags": []
          },
          "execution_count": 15
        }
      ]
    },
    {
      "cell_type": "code",
      "metadata": {
        "id": "4ZUpywV4OUs8",
        "colab_type": "code",
        "outputId": "ee0c9b9a-3537-4c7d-90b1-7d7385f78f48",
        "colab": {
          "base_uri": "https://localhost:8080/",
          "height": 34
        }
      },
      "source": [
        "lin = trainresults(\"results.jld2\", model);"
      ],
      "execution_count": 0,
      "outputs": [
        {
          "output_type": "stream",
          "text": [
            "┣████████████████████┫ [100.00%, 60000/60000, 02:32/02:32, 395.58i/s] \n"
          ],
          "name": "stderr"
        }
      ]
    },
    {
      "cell_type": "markdown",
      "metadata": {
        "id": "xS5H6YTIvPXP",
        "colab_type": "text"
      },
      "source": [
        "**Total Number of Parameters:**\n",
        "\n",
        "\n",
        "\n",
        "\n"
      ]
    },
    {
      "cell_type": "markdown",
      "metadata": {
        "id": "qFNoNTOivS6t",
        "colab_type": "text"
      },
      "source": [
        "**Figures/Table**"
      ]
    },
    {
      "cell_type": "code",
      "metadata": {
        "id": "zsgguHsWTsrY",
        "colab_type": "code",
        "outputId": "574c2ab8-5384-4104-afec-d2d7b7cfe2ef",
        "colab": {
          "base_uri": "https://localhost:8080/",
          "height": 417
        }
      },
      "source": [
        "trnloss,tstloss = Array{Float32}(lin[2,:]), Array{Float32}(lin[3,:]) \n",
        "plot([trnloss,tstloss],ylim=(.0,.4),labels=[:trnloss :tstloss],xlabel=\"Epochs\",ylabel=\"Loss\")"
      ],
      "execution_count": 0,
      "outputs": [
        {
          "output_type": "execute_result",
          "data": {
            "image/png": "[encoded data removed]"
          },
          "metadata": {
            "tags": []
          },
          "execution_count": 17
        }
      ]
    },
    {
      "cell_type": "code",
      "metadata": {
        "id": "nk5cposhWkWy",
        "colab_type": "code",
        "outputId": "e84d7fbb-b787-471c-9757-1e521f0e900f",
        "colab": {
          "base_uri": "https://localhost:8080/",
          "height": 417
        }
      },
      "source": [
        "trn_zeroone,tst_zeroone = Array{Float32}(lin[4,:]), Array{Float32}(lin[5,:]) \n",
        "plot([trn_zeroone,tst_zeroone],ylim=(.0,.4),labels=[:trn_misclassification :tst_misclassification],xlabel=\"Epochs\",ylabel=\"Misclassification Error\")"
      ],
      "execution_count": 0,
      "outputs": [
        {
          "output_type": "execute_result",
          "data": {
            "image/png": "[encoded data removed]"
          },
          "metadata": {
            "tags": []
          },
          "execution_count": 18
        }
      ]
    },
    {
      "cell_type": "markdown",
      "metadata": {
        "id": "jJNqtCJYvVit",
        "colab_type": "text"
      },
      "source": [
        "# 6"
      ]
    },
    {
      "cell_type": "code",
      "metadata": {
        "id": "Z6qqujyOkUaq",
        "colab_type": "code",
        "outputId": "655c0bc4-7dfd-4260-c2dd-39fe0251fd6a",
        "colab": {
          "base_uri": "https://localhost:8080/",
          "height": 54
        }
      },
      "source": [
        "model_adam = Chain(Conv(5,5,1,3),\n",
        "           DenseLayer(432,10))"
      ],
      "execution_count": 0,
      "outputs": [
        {
          "output_type": "execute_result",
          "data": {
            "text/plain": [
              "Chain((Conv(P(KnetArray{Float32,4}(5,5,1,3)), P(KnetArray{Float32,4}(1,1,3,1)), Knet.sigm, 0), DenseLayer(P(KnetArray{Float32,2}(10,432)), P(KnetArray{Float32,1}(10)))))"
            ]
          },
          "metadata": {
            "tags": []
          },
          "execution_count": 19
        }
      ]
    },
    {
      "cell_type": "code",
      "metadata": {
        "id": "3FgYFuCYXiA2",
        "colab_type": "code",
        "outputId": "c967e8f4-ae04-49b1-ae43-4a8f63bc6ab0",
        "colab": {
          "base_uri": "https://localhost:8080/",
          "height": 34
        }
      },
      "source": [
        "function trainresults_adam(file, model)\n",
        "    # We will train 100 epochs (the following returns an iterator, does not start training)\n",
        "    training = adam(model, ncycle(dtrn,100))\n",
        "    # We will snapshot model and train/test loss and errors\n",
        "    snapshot() = (deepcopy(model),model(dtrn),model(dtst),zeroone(model,dtrn),zeroone(model,dtst))\n",
        "    # Snapshot results once every epoch (still an iterator)\n",
        "    snapshots = (snapshot() for x in takenth(progress(training),length(dtrn)))\n",
        "    # Run the snapshot/training iterator, reshape and save results as a 5x100 array\n",
        "    lin = reshape(collect(flatten(snapshots)),(5,:))\n",
        "    # Knet.save and Knet.load can be used to store models in files\n",
        "    Knet.save(file,\"results\",lin)\n",
        "    return lin\n",
        "end"
      ],
      "execution_count": 0,
      "outputs": [
        {
          "output_type": "execute_result",
          "data": {
            "text/plain": [
              "trainresults_adam (generic function with 1 method)"
            ]
          },
          "metadata": {
            "tags": []
          },
          "execution_count": 20
        }
      ]
    },
    {
      "cell_type": "code",
      "metadata": {
        "id": "5hymBiyfwDZv",
        "colab_type": "code",
        "outputId": "870f9381-2616-4de4-9bc9-2d126b32eaae",
        "colab": {
          "base_uri": "https://localhost:8080/",
          "height": 34
        }
      },
      "source": [
        "lin_adam = trainresults_adam(\"results2.jld2\", model_adam);"
      ],
      "execution_count": 0,
      "outputs": [
        {
          "output_type": "stream",
          "text": [
            "┣████████████████████┫ [100.00%, 60000/60000, 02:34/02:34, 390.85i/s] \n"
          ],
          "name": "stderr"
        }
      ]
    },
    {
      "cell_type": "markdown",
      "metadata": {
        "id": "ZkanA4ciw0Se",
        "colab_type": "text"
      },
      "source": [
        "**Figures/Table**"
      ]
    },
    {
      "cell_type": "code",
      "metadata": {
        "id": "HJoT1WuNw2Ns",
        "colab_type": "code",
        "outputId": "3e186fdc-7f86-4d55-b279-19635a61e758",
        "colab": {
          "base_uri": "https://localhost:8080/",
          "height": 417
        }
      },
      "source": [
        "trnloss,tstloss = Array{Float32}(lin_adam[2,:]), Array{Float32}(lin_adam[3,:]) \n",
        "plot([trnloss,tstloss],ylim=(.0,.4),labels=[:trnloss :tstloss],xlabel=\"Epochs\",ylabel=\"Loss\")"
      ],
      "execution_count": 0,
      "outputs": [
        {
          "output_type": "execute_result",
          "data": {
            "image/png": "[encoded data removed]"
          },
          "metadata": {
            "tags": []
          },
          "execution_count": 22
        }
      ]
    },
    {
      "cell_type": "code",
      "metadata": {
        "id": "vsczv_qCxEqn",
        "colab_type": "code",
        "outputId": "fdcd1951-1c04-41a8-afb3-3ffe0e357275",
        "colab": {
          "base_uri": "https://localhost:8080/",
          "height": 417
        }
      },
      "source": [
        "trn_zeroone,tst_zeroone = Array{Float32}(lin_adam[4,:]), Array{Float32}(lin_adam[5,:]) \n",
        "plot([trn_zeroone,tst_zeroone],ylim=(.0,.4),labels=[:trn_misclassification :tst_misclassification],xlabel=\"Epochs\",ylabel=\"Misclassification Error\")"
      ],
      "execution_count": 0,
      "outputs": [
        {
          "output_type": "execute_result",
          "data": {
            "image/png": "[encoded data removed]"
          },
          "metadata": {
            "tags": []
          },
          "execution_count": 23
        }
      ]
    },
    {
      "cell_type": "markdown",
      "metadata": {
        "id": "OvfF8xCswv4y",
        "colab_type": "text"
      },
      "source": [
        "# 7"
      ]
    },
    {
      "cell_type": "markdown",
      "metadata": {
        "id": "vXuRQtJUvJqX",
        "colab_type": "text"
      },
      "source": [
        " 1. Start with LeNet"
      ]
    },
    {
      "cell_type": "code",
      "metadata": {
        "id": "Q36-SFezzsOS",
        "colab_type": "code",
        "outputId": "fd765495-15a0-44d9-c966-64219b3832f8",
        "colab": {
          "base_uri": "https://localhost:8080/",
          "height": 34
        }
      },
      "source": [
        "LeNet = Chain(Conv(5,5,1,20), Conv(5,5,20,50), DenseLayer(800,500), DenseLayer(500,10))\n",
        "lenet_adam = trainresults_adam(\"results3.jld2\", LeNet);"
      ],
      "execution_count": 0,
      "outputs": [
        {
          "output_type": "stream",
          "text": [
            "┣████████████████████┫ [100.00%, 60000/60000, 04:11/04:11, 239.45i/s] \n"
          ],
          "name": "stderr"
        }
      ]
    },
    {
      "cell_type": "code",
      "metadata": {
        "id": "mmInGYbvunAW",
        "colab_type": "code",
        "outputId": "801a56f1-37ea-4ee9-ebbc-96cc8d4b993d",
        "colab": {
          "base_uri": "https://localhost:8080/",
          "height": 417
        }
      },
      "source": [
        "trnloss,tstloss = Array{Float32}(lenet_adam[2,:]), Array{Float32}(lenet_adam[3,:]) \n",
        "plot([trnloss,tstloss],ylim=(.0,.4),labels=[:trnloss :tstloss],xlabel=\"Epochs\",ylabel=\"Loss\")"
      ],
      "execution_count": 0,
      "outputs": [
        {
          "output_type": "execute_result",
          "data": {
            "image/png": "[encoded data removed]"
          },
          "metadata": {
            "tags": []
          },
          "execution_count": 28
        }
      ]
    },
    {
      "cell_type": "code",
      "metadata": {
        "id": "oV6tDbwFxkN9",
        "colab_type": "code",
        "outputId": "509c0031-a070-4426-ada2-4e45b467aafb",
        "colab": {
          "base_uri": "https://localhost:8080/",
          "height": 34
        }
      },
      "source": [
        "lenet_adam[2,:][end]"
      ],
      "execution_count": 0,
      "outputs": [
        {
          "output_type": "execute_result",
          "data": {
            "text/plain": [
              "0.005552914f0"
            ]
          },
          "metadata": {
            "tags": []
          },
          "execution_count": 48
        }
      ]
    },
    {
      "cell_type": "code",
      "metadata": {
        "id": "KNrdYb-ouo_7",
        "colab_type": "code",
        "outputId": "dac2b7f2-2cf9-41fd-c840-3847f61d8ac8",
        "colab": {
          "base_uri": "https://localhost:8080/",
          "height": 417
        }
      },
      "source": [
        "trn_zeroone,tst_zeroone = Array{Float32}(lenet_adam[4,:]), Array{Float32}(lenet_adam[5,:]) \n",
        "plot([trn_zeroone,tst_zeroone],ylim=(.0,.4),labels=[:trn_misclassification :tst_misclassification],xlabel=\"Epochs\",ylabel=\"Misclassification Error\")"
      ],
      "execution_count": 0,
      "outputs": [
        {
          "output_type": "execute_result",
          "data": {
            "image/png": "[encoded data removed]"
          },
          "metadata": {
            "tags": []
          },
          "execution_count": 29
        }
      ]
    },
    {
      "cell_type": "markdown",
      "metadata": {
        "id": "tO5DV5jbx4Yx",
        "colab_type": "text"
      },
      "source": [
        " 2. my_model_1\n"
      ]
    },
    {
      "cell_type": "code",
      "metadata": {
        "id": "Uzi_yVH1xDZ7",
        "colab_type": "code",
        "outputId": "9cd3fc52-49a6-4a5c-c644-6eb5c3212029",
        "colab": {
          "base_uri": "https://localhost:8080/",
          "height": 54
        }
      },
      "source": [
        "my_model_1 = Chain(Conv(3,3,1,10),\n",
        "           DenseLayer(1690,10))"
      ],
      "execution_count": 0,
      "outputs": [
        {
          "output_type": "execute_result",
          "data": {
            "text/plain": [
              "Chain((Conv(P(KnetArray{Float32,4}(3,3,1,10)), P(KnetArray{Float32,4}(1,1,10,1)), Knet.sigm, 0), DenseLayer(P(KnetArray{Float32,2}(10,1690)), P(KnetArray{Float32,1}(10)))))"
            ]
          },
          "metadata": {
            "tags": []
          },
          "execution_count": 41
        }
      ]
    },
    {
      "cell_type": "code",
      "metadata": {
        "id": "sLoYoekbzqNj",
        "colab_type": "code",
        "outputId": "57ce3f2b-8888-40ac-a6a7-f2de76051b8e",
        "colab": {
          "base_uri": "https://localhost:8080/",
          "height": 34
        }
      },
      "source": [
        "my_model_1_adam = trainresults_adam(\"results4.jld2\", my_model_1);"
      ],
      "execution_count": 0,
      "outputs": [
        {
          "output_type": "stream",
          "text": [
            "┣████████████████████┫ [100.00%, 60000/60000, 02:38/02:38, 378.57i/s] \n"
          ],
          "name": "stderr"
        }
      ]
    },
    {
      "cell_type": "code",
      "metadata": {
        "id": "99dAlBz217iA",
        "colab_type": "code",
        "outputId": "1ec2af3a-cff3-4e24-e897-81a47abb1ceb",
        "colab": {
          "base_uri": "https://localhost:8080/",
          "height": 417
        }
      },
      "source": [
        "trnloss,tstloss = Array{Float32}(my_model_1_adam[2,:]), Array{Float32}(my_model_1_adam[3,:]) \n",
        "plot([trnloss,tstloss],ylim=(.0,.4),labels=[:trnloss :tstloss],xlabel=\"Epochs\",ylabel=\"Loss\")"
      ],
      "execution_count": 0,
      "outputs": [
        {
          "output_type": "execute_result",
          "data": {
            "image/png": "[encoded data removed]"
          },
          "metadata": {
            "tags": []
          },
          "execution_count": 43
        }
      ]
    },
    {
      "cell_type": "code",
      "metadata": {
        "id": "2Cps63Ze2E0r",
        "colab_type": "code",
        "outputId": "0ed155a4-3f8b-43de-a7cf-761de808fa7e",
        "colab": {
          "base_uri": "https://localhost:8080/",
          "height": 34
        }
      },
      "source": [
        "my_model_1_adam[4,:][end]"
      ],
      "execution_count": 0,
      "outputs": [
        {
          "output_type": "execute_result",
          "data": {
            "text/plain": [
              "0.005333333333333301"
            ]
          },
          "metadata": {
            "tags": []
          },
          "execution_count": 84
        }
      ]
    },
    {
      "cell_type": "code",
      "metadata": {
        "id": "b1M8I41Jzycs",
        "colab_type": "code",
        "outputId": "44111f24-5e35-4be0-c2d9-a4c8b8c82eed",
        "colab": {
          "base_uri": "https://localhost:8080/",
          "height": 417
        }
      },
      "source": [
        "trn_zeroone,tst_zeroone = Array{Float32}(my_model_1_adam[4,:]), Array{Float32}(my_model_1_adam[5,:]) \n",
        "plot([trn_zeroone,tst_zeroone],ylim=(.0,.4),labels=[:trn_misclassification :tst_misclassification],xlabel=\"Epochs\",ylabel=\"Misclassification Error\")"
      ],
      "execution_count": 0,
      "outputs": [
        {
          "output_type": "execute_result",
          "data": {
            "image/png": "[encoded data removed]"
          },
          "metadata": {
            "tags": []
          },
          "execution_count": 45
        }
      ]
    },
    {
      "cell_type": "markdown",
      "metadata": {
        "id": "V8CKqz383mQv",
        "colab_type": "text"
      },
      "source": [
        "\n",
        "3.  my_model_two\n",
        "\n"
      ]
    },
    {
      "cell_type": "code",
      "metadata": {
        "id": "iuUFNeF62cbl",
        "colab_type": "code",
        "colab": {}
      },
      "source": [
        "my_model_two= Chain(Conv(3,3,1,20),\n",
        "               Conv(3,3,20,30),\n",
        "               DenseLayer(750,600),\n",
        "               DenseLayer(600,300),\n",
        "               DenseLayer(300,150),\n",
        "               DenseLayer(150,10));"
      ],
      "execution_count": 0,
      "outputs": []
    },
    {
      "cell_type": "code",
      "metadata": {
        "id": "mqJFcs4m4hCh",
        "colab_type": "code",
        "outputId": "9246ba6a-13ec-4e69-881e-fda10849ab3c",
        "colab": {
          "base_uri": "https://localhost:8080/",
          "height": 34
        }
      },
      "source": [
        "my_model_two_adam = trainresults_adam(\"results6.jld2\", my_model_two);"
      ],
      "execution_count": 0,
      "outputs": [
        {
          "output_type": "stream",
          "text": [
            "┣████████████████████┫ [100.00%, 60000/60000, 04:40/04:40, 214.11i/s] \n"
          ],
          "name": "stderr"
        }
      ]
    },
    {
      "cell_type": "code",
      "metadata": {
        "id": "v_kY07KpD0CH",
        "colab_type": "code",
        "outputId": "e141941b-2836-42cb-d611-c5425a44e162",
        "colab": {
          "base_uri": "https://localhost:8080/",
          "height": 417
        }
      },
      "source": [
        "trnloss,tstloss = Array{Float32}(my_model_two_adam[2,:]), Array{Float32}(my_model_two_adam[3,:]) \n",
        "plot([trnloss,tstloss],ylim=(.0,.4),labels=[:trnloss :tstloss],xlabel=\"Epochs\",ylabel=\"Loss\")"
      ],
      "execution_count": 0,
      "outputs": [
        {
          "output_type": "execute_result",
          "data": {
            "image/png": "[encoded data removed]"
          },
          "metadata": {
            "tags": []
          },
          "execution_count": 85
        }
      ]
    },
    {
      "cell_type": "code",
      "metadata": {
        "id": "DxPUm6aoD6ZA",
        "colab_type": "code",
        "outputId": "2b4d2bf2-4df1-42c6-8934-a8b9018ba126",
        "colab": {
          "base_uri": "https://localhost:8080/",
          "height": 417
        }
      },
      "source": [
        "trn_zeroone,tst_zeroone = Array{Float32}(my_model_two_adam[4,:]), Array{Float32}(my_model_two_adam[5,:]) \n",
        "plot([trn_zeroone,tst_zeroone],ylim=(.0,.4),labels=[:trn_misclassification :tst_misclassification],xlabel=\"Epochs\",ylabel=\"Misclassification Error\")"
      ],
      "execution_count": 0,
      "outputs": [
        {
          "output_type": "execute_result",
          "data": {
            "image/png": "[encoded data removed]"
          },
          "metadata": {
            "tags": []
          },
          "execution_count": 86
        }
      ]
    },
    {
      "cell_type": "code",
      "metadata": {
        "id": "LlK2MGMC5hb3",
        "colab_type": "code",
        "outputId": "6658f8d5-00da-4c28-daec-d2534374ca96",
        "colab": {
          "base_uri": "https://localhost:8080/",
          "height": 34
        }
      },
      "source": [
        "function train_with_results(model, epoch, lr)\n",
        "    training = adam(model, ncycle(dtrn,epoch))\n",
        "    snapshot() = (deepcopy(model),model(dtrn),model(dtst),zeroone(model,dtrn),zeroone(model,dtst))\n",
        "    snapshots = (snapshot() for x in takenth(progress(training),length(dtrn)))\n",
        "    lin = reshape(collect(flatten(snapshots)),(5,:))\n",
        "    return lin\n",
        "end"
      ],
      "execution_count": 0,
      "outputs": [
        {
          "output_type": "execute_result",
          "data": {
            "text/plain": [
              "train_with_results (generic function with 2 methods)"
            ]
          },
          "metadata": {
            "tags": []
          },
          "execution_count": 87
        }
      ]
    },
    {
      "cell_type": "code",
      "metadata": {
        "id": "O-_OZvm_4kFK",
        "colab_type": "code",
        "colab": {}
      },
      "source": [
        "my_model_three= Chain(Conv(3,3,1,30),\n",
        "               Conv(3,3,30,10),\n",
        "               DenseLayer(250,10));"
      ],
      "execution_count": 0,
      "outputs": []
    },
    {
      "cell_type": "code",
      "metadata": {
        "id": "Q8X8j1hO-Nqd",
        "colab_type": "code",
        "outputId": "ed816978-2f38-4a3a-c7fd-c198b4a703ec",
        "colab": {
          "base_uri": "https://localhost:8080/",
          "height": 34
        }
      },
      "source": [
        "my_model_three_adam = train_with_results(my_model_three, 300, 0.15);"
      ],
      "execution_count": 0,
      "outputs": [
        {
          "output_type": "stream",
          "text": [
            "┣████████████████████┫ [100.00%, 180000/180000, 11:27/11:27, 261.89i/s] \n"
          ],
          "name": "stderr"
        }
      ]
    },
    {
      "cell_type": "code",
      "metadata": {
        "id": "YgxYncJHBpeB",
        "colab_type": "code",
        "outputId": "739800fe-442f-46e3-f768-7c9d5a39470e",
        "colab": {
          "base_uri": "https://localhost:8080/",
          "height": 417
        }
      },
      "source": [
        "trnloss,tstloss = Array{Float32}(my_model_three_adam[2,:]), Array{Float32}(my_model_three_adam[3,:]) \n",
        "plot([trnloss,tstloss],ylim=(.0,.4),labels=[:trnloss :tstloss],xlabel=\"Epochs\",ylabel=\"Loss\")"
      ],
      "execution_count": 0,
      "outputs": [
        {
          "output_type": "execute_result",
          "data": {
            "image/png": "[encoded data removed]"
          },
          "metadata": {
            "tags": []
          },
          "execution_count": 88
        }
      ]
    },
    {
      "cell_type": "code",
      "metadata": {
        "id": "3dk-4PN5EDaT",
        "colab_type": "code",
        "outputId": "6b7ff012-9cc3-44b4-ee3e-ee23679f5f97",
        "colab": {
          "base_uri": "https://localhost:8080/",
          "height": 417
        }
      },
      "source": [
        "trn_zeroone,tst_zeroone = Array{Float32}(my_model_three_adam[4,:]), Array{Float32}(my_model_three_adam[5,:]) \n",
        "plot([trn_zeroone,tst_zeroone],ylim=(.0,.4),labels=[:trn_misclassification :tst_misclassification],xlabel=\"Epochs\",ylabel=\"Misclassification Error\")"
      ],
      "execution_count": 0,
      "outputs": [
        {
          "output_type": "execute_result",
          "data": {
            "image/png": "[encoded data removed]"
          },
          "metadata": {
            "tags": []
          },
          "execution_count": 89
        }
      ]
    },
    {
      "cell_type": "code",
      "metadata": {
        "id": "JaMFXpiLEWQ8",
        "colab_type": "code",
        "colab": {}
      },
      "source": [
        ""
      ],
      "execution_count": 0,
      "outputs": []
    }
  ]
}